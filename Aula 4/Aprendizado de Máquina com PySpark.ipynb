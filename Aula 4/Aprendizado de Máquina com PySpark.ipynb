{
 "cells": [
  {
   "cell_type": "markdown",
   "id": "2f4545be",
   "metadata": {},
   "source": [
    "# Aprendizado de Máquina com Spark\n",
    "\n",
    "Spark oferece um ambiente completo para aprendizado de máquina em sua biblioteca `MLlib`, que implementa diversas tarefas de modo distribuído e escalável. Neste notebook veremos alguns exemplos de suas funcionalidades, que podem ser divididas em três grandes categorias:\n",
    "- Transformações de Características\n",
    "- Algoritmos\n",
    "- Otimização \n",
    "\n",
    "Vamos começar importando as bibliotecas do Spark e inicializando uma `SparkSession`."
   ]
  },
  {
   "cell_type": "code",
   "execution_count": null,
   "id": "197560c0",
   "metadata": {},
   "outputs": [],
   "source": [
    "import findspark\n",
    "findspark.init()\n",
    "\n",
    "import pyspark\n",
    "from pyspark.sql import SparkSession\n",
    "\n",
    "spark = SparkSession.builder.getOrCreate()\n",
    "\n",
    "print(spark)"
   ]
  },
  {
   "cell_type": "markdown",
   "id": "8526455f",
   "metadata": {},
   "source": [
    "## Transformações de Características\n",
    "\n",
    "Spark oferece uma grande quantidade de transformações de características que podem ser aplicadas em Dataframes. Essas transformações vão além das funcionalidades vistas antes na biblioteca SQL. \n",
    "\n",
    "\n",
    "As transformações de características estão localizadas no módulo `pyspark.ml.feature`. Podemos checar todas as funcionalidades na [documentação](https://spark.apache.org/docs/latest/ml-features.html). No caso deste notebook, veremos as cinco mais comuns:\n",
    "- Indexador de String\n",
    "- Transformador de representações OneHot\n",
    "- Transformador de valores em _buckets_\n",
    "- TF-IDF\n",
    "- Criador de vetores\n",
    "\n",
    "\n",
    "Mas antes de vermos eles, vamos importar e preparar as bases de dados `flights.csv` e `sms.csv`, usando SQL."
   ]
  },
  {
   "cell_type": "markdown",
   "id": "010f44fa",
   "metadata": {},
   "source": [
    "Preparando `flights.csv`:"
   ]
  },
  {
   "cell_type": "code",
   "execution_count": null,
   "id": "e15f28b2",
   "metadata": {},
   "outputs": [],
   "source": [
    "# importando e olhando o Schema\n",
    "\n",
    "# definindo a coluna alvo\n",
    "\n",
    "# normalizando valores por min-max\n",
    "\n",
    "# remover colunas desnecessarias\n",
    "\n",
    "#remover linhas com valores nulos\n"
   ]
  },
  {
   "cell_type": "markdown",
   "id": "3f7f0410",
   "metadata": {},
   "source": [
    "Preparando `sms.csv`:"
   ]
  },
  {
   "cell_type": "code",
   "execution_count": null,
   "id": "fee7fbca",
   "metadata": {},
   "outputs": [],
   "source": [
    "# importando e olhando o Schema\n",
    "\n",
    "# renomear colunas\n"
   ]
  },
  {
   "cell_type": "markdown",
   "id": "e23d073b",
   "metadata": {},
   "source": [
    "### StringIndexer\n",
    "\n",
    "O Indexador de String transforma o conteúdo de cada célula de uma coluna de Strings em um valor categórico. Essa decisão é feita com base na frequência do elemento. \n",
    "\n",
    "Vamos modificar algumas colunas de `flights_df`."
   ]
  },
  {
   "cell_type": "code",
   "execution_count": null,
   "id": "165a2389",
   "metadata": {},
   "outputs": [],
   "source": [
    "print('Checando se \"carrier\" é categórico')\n",
    "\n",
    "print('Indexando \"carrier\"')\n",
    "\n",
    "print('Indexando \"origin\" e \"dest\"')\n"
   ]
  },
  {
   "cell_type": "markdown",
   "id": "174d19cf",
   "metadata": {},
   "source": [
    "### OneHotEncoder\n",
    "\n",
    "Dados categóricos não podem ser manipulados pela maioria de algoritmos de aprendizado de máquina, pelo simples fato de que eles não possuem relação matemática alguma entre si. Para podermos usar dados categóricos na maioria dos algoritmos, precisamos transformá-los em uma representação **one-hot**. \n",
    "\n",
    "Spark realiza essa conversão através do `OneHotEncoder`, porém o que faz de fato é gerar uma representação **dummy**: \n",
    "\n",
    "![Representação one-hot. Retirado de: https://www.kaggle.com/getting-started/187540](https://www.googleapis.com/download/storage/v1/b/kaggle-forum-message-attachments/o/inbox%2F5315434%2Fa9886ea90db74aad0b2f86d2686c337b%2Fohe-vs-dummy.png?generation=1601465979026694&alt=media)\n",
    "\n",
    "Vamos converter os índices que criamos em representações one-hot."
   ]
  },
  {
   "cell_type": "code",
   "execution_count": null,
   "id": "a0fbf5ef",
   "metadata": {},
   "outputs": [],
   "source": [
    "print('Criando one-hots para \"carrier_idx\"')\n",
    "\n",
    "print('Criando one-hots para \"origin\" e \"dest\"')\n"
   ]
  },
  {
   "cell_type": "markdown",
   "id": "f90baa6b",
   "metadata": {},
   "source": [
    "### Bucketizer\n",
    "\n",
    "Às vezes é interessante transformar valores contínuos em discretos para uma generalização melhor do modelo. O modelo assim passa a diferenciar por _categorias_ de valores e não tentar entender um comportamento a partir da variação em um valor. Ou ainda, é interessante diminuir o número de categorias presentes em uma variável já discreta.\n",
    "\n",
    "Essa tarefa é conhecida como _bucketing_ ou _binning_. Vamos fazer essa transformação com a coluna `'hour'`, e produzir vetores one-hot a partir dela."
   ]
  },
  {
   "cell_type": "code",
   "execution_count": null,
   "id": "339b5774",
   "metadata": {},
   "outputs": [],
   "source": [
    "print('Ver valores únicos de \"hour\"')\n",
    "\n",
    "print('Reduzir para buckets de 3 horas')\n"
   ]
  },
  {
   "cell_type": "markdown",
   "id": "faf240b1",
   "metadata": {},
   "source": [
    "### VectorAssembler\n",
    "\n",
    "Spark requer que toda a informação que será passada para um algoritmo de ML seja convertida em um único vetor. Para fazer isso, usaremos `VectorAssembler`."
   ]
  },
  {
   "cell_type": "code",
   "execution_count": null,
   "id": "9dc8e453",
   "metadata": {},
   "outputs": [],
   "source": []
  },
  {
   "cell_type": "markdown",
   "id": "f52af92f",
   "metadata": {},
   "source": [
    "### TF-IDF ...de novo\n",
    "\n",
    "Spark oferece funções para a criação de vetores TF-IDF. O processo é quebrado em três transformações: `Tokenizer`, `HashingTF`, `IDF`. Vamos transformar a coluna `'text'` em TF-IDF em nosso `sms_df`."
   ]
  },
  {
   "cell_type": "code",
   "execution_count": null,
   "id": "dbb78b31",
   "metadata": {},
   "outputs": [],
   "source": [
    "print('Limpando o texto - remover pontuação, números e espaços adicionais')\n",
    "#colinha: regex para remover específicas pontuações e números [_():;,.!?\\\\-0-9]\n",
    "\n",
    "print('Tokenizando e removendo stop words')\n",
    "\n",
    "print('Calculando TF')\n",
    "\n",
    "print('Calculando TF-IDF')\n"
   ]
  },
  {
   "cell_type": "markdown",
   "id": "2788ad39",
   "metadata": {},
   "source": [
    "## Algoritmos de aprendizado de máquina em Spark\n",
    "\n",
    "Veremos quatro categorias de algoritmos de ML a seguir:\n",
    "- Classificação\n",
    "- Regressão\n",
    "- Agrupamento\n",
    "- Recomendação"
   ]
  },
  {
   "cell_type": "markdown",
   "id": "24d25776",
   "metadata": {},
   "source": [
    "### Classificação\n",
    "\n",
    "Os algoritmos de classificação aprendem um modelo que é capaz de discernir instâncias entre múltiplas classes. Os algoritmos dessa categoria estão localizados no módulo `pyspark.ml.classification`. Podemos olhar a [documentação](https://spark.apache.org/docs/latest/ml-classification-regression.html#classification) para verificar quais algoritmos estão disponíveis. No caso desse notebook, olharemos para dois algoritmos clássicos:\n",
    "\n",
    "- Árvore de Decisão\n",
    "- Regressão Logística\n",
    "\n",
    "Para avaliar a performance dos algoritmos, podemos utilizar dois objetos:`MulticlassClassificationEvaluator` e `BinaryClassificationEvaluator`. O primeiro lida com avaliação de modelos capazes discretizar entre múltiplas classes e contém métricas como precisão, revocação, medida-F por classe e/ou ponderada. Já o segundo, foca em análise de classificação binária e possui implementações específicas para esse caso, como AUC. \n"
   ]
  },
  {
   "cell_type": "markdown",
   "id": "f6e19adf",
   "metadata": {},
   "source": [
    "#### Árvore de Decisão\n",
    "\n",
    "Árvore de decisão é um dos algoritmos mais clássicos de aprendizado de máquina. O algoritmo escolhe a característica mais importante para particionar o espaço, o divide e recursivamente o invoca para resolver os subconjuntos resultantes.\n",
    "\n",
    "![Arvore de decisão para jogar tênis, retirado de: https://www.researchgate.net/figure/Decision-tree-for-conditions-to-play-tennis_fig1_283569105](https://www.researchgate.net/profile/Peter-Wagacha/publication/283569105/figure/fig1/AS:293585607639040@1447007671951/Decision-tree-for-conditions-to-play-tennis.png)\n",
    "\n",
    "\n",
    "Vamos rodar `DecisionTreeClassifier` para aprender um modelo com `flights_vec` e com `sms_tfidf`."
   ]
  },
  {
   "cell_type": "code",
   "execution_count": null,
   "id": "3df3cc52",
   "metadata": {},
   "outputs": [],
   "source": [
    "#dividir em treino/teste\n",
    "\n",
    "print('Rodando o modelo e vendo o resultado')\n",
    "\n",
    "print('Matriz de confusão')\n"
   ]
  },
  {
   "cell_type": "markdown",
   "id": "982d472f",
   "metadata": {},
   "source": [
    "Vamos avaliar o modelo? Vamos ver sua eficácia em termos de precisão e revocação ponderadas, e AUC."
   ]
  },
  {
   "cell_type": "code",
   "execution_count": null,
   "id": "ca369fd3",
   "metadata": {},
   "outputs": [],
   "source": []
  },
  {
   "cell_type": "code",
   "execution_count": null,
   "id": "372928fc",
   "metadata": {},
   "outputs": [],
   "source": [
    "# rodar arvore de decisão com sms_tfidf\n"
   ]
  },
  {
   "cell_type": "markdown",
   "id": "aa592a1d",
   "metadata": {},
   "source": [
    "#### Regressão Logística\n",
    "\n",
    "Na regressão logística, utiliza-se uma função sigmoide para realizar classificação binária:  \n",
    "\n",
    "![Disponível em: https://www.javatpoint.com/logistic-regression-in-machine-learning](https://static.javatpoint.com/tutorial/machine-learning/images/logistic-regression-in-machine-learning.png)\n",
    "\n",
    "Vamos rodar `flights_vec` e `sms_tfidf` também nesse modelo e comparar os resultados."
   ]
  },
  {
   "cell_type": "code",
   "execution_count": null,
   "id": "a224e80e",
   "metadata": {},
   "outputs": [],
   "source": [
    "# rodar regressão logística com flights_vec\n"
   ]
  },
  {
   "cell_type": "code",
   "execution_count": null,
   "id": "91cc5efd",
   "metadata": {},
   "outputs": [],
   "source": [
    "# rodar regressão logística com sms_tfidf\n"
   ]
  },
  {
   "cell_type": "markdown",
   "id": "3a91376c",
   "metadata": {},
   "source": [
    "### Regressão\n",
    "\n",
    "Em regressão o modelo é treinado para prever um valor contínuo ao invés de uma classe. Os algoritmos dessa categoria estão localizados no módulo `pyspark.ml.regression`. Podemos olhar a [documentação](https://spark.apache.org/docs/latest/ml-classification-regression.html#regression) para verificar quais algoritmos estão disponíveis. No caso desse notebook, olharemos para os seguintes algoritmos:\n",
    "\n",
    "- Regressão Linear\n",
    "- Random Forest para regressão\n",
    "\n",
    "Para avaliar a performance dos algoritmos, podemos utilizar `RegressionEvaluator`. Nele há a implementação de métricas de erro, como MSE, RMSE, R2, MAE.\n"
   ]
  },
  {
   "cell_type": "markdown",
   "id": "f1e37a48",
   "metadata": {},
   "source": [
    "#### Regressão Linear\n",
    "\n",
    "Regressão linear é o algoritmo mais simples de aprendizado de máquina. Ele tenta encontrar um modelo que descreva os dados a partir de uma relação **linear**. \n",
    "\n",
    "![Disponivel em: https://www.researchgate.net/figure/Linear-Regression-model-sample-illustration_fig3_333457161](https://www.researchgate.net/profile/Hieu-Tran-17/publication/333457161/figure/fig3/AS:763959762247682@1559153609649/Linear-Regression-model-sample-illustration.ppm)\n",
    "\n",
    "Para algoritmos de regressão, utilizaremos como alvo a coluna `'Y_num'` de `flights_vec`. "
   ]
  },
  {
   "cell_type": "code",
   "execution_count": null,
   "id": "96324853",
   "metadata": {},
   "outputs": [],
   "source": [
    "from pyspark.ml.regression import LinearRegression\n",
    "\n",
    "print('Treinar e exibir resultados')\n",
    "\n",
    "print('Avaliar')\n",
    "\n",
    "print('Treinar e exibir resultados com regularização')\n"
   ]
  },
  {
   "cell_type": "markdown",
   "id": "704649cc",
   "metadata": {},
   "source": [
    "#### Random Forests\n",
    "\n",
    "O algoritmo de Random Forests é um algoritmo de _ensemble_, ou seja, ele ajusta vários modelos que decidem a classe por meio de votação.\n",
    "\n",
    "![Disponível em: https://en.wikipedia.org/wiki/Random_forest](https://upload.wikimedia.org/wikipedia/commons/7/76/Random_forest_diagram_complete.png)\n",
    "\n",
    "Vamos executá-lo e comparar com Regressão Linear."
   ]
  },
  {
   "cell_type": "code",
   "execution_count": null,
   "id": "64d6c62b",
   "metadata": {},
   "outputs": [],
   "source": []
  },
  {
   "cell_type": "markdown",
   "id": "1dc1b46c",
   "metadata": {},
   "source": [
    "### Recomendação\n",
    "\n",
    "ALgoritmos de recomendação capturam as interações dos usuário e produzem sugestões com base nelas. Em Spark apenas um único algoritmo está disponível dentro do módulo `pyspark.ml.recommendation` ([documentação](https://spark.apache.org/docs/latest/ml-collaborative-filtering.html)). Esse algoritmo é o chamado _Alternating Least Squares_ (`ALS`), uma forma de fatoração de matrizes.\n",
    "\n",
    "![Disponível em: https://towardsdatascience.com/prototyping-a-recommender-system-step-by-step-part-2-alternating-least-square-als-matrix-4a76c58714a1](https://miro.medium.com/max/1838/1*xMxQL_V9CWeLggrk-Uyzmg.png)\n",
    "\n",
    "Essa implementação suporta respostas explícitas e implícitas, e é robusta a _cold start_. Vamos fazer um exemplo usando o dataset [HetRec 2011 - MovieLens](https://grouplens.org/datasets/hetrec-2011/)."
   ]
  },
  {
   "cell_type": "code",
   "execution_count": null,
   "id": "a49186bc",
   "metadata": {},
   "outputs": [],
   "source": [
    "#lendo dataset\n",
    "\n",
    "#dividindo dataset\n",
    "\n",
    "#rodando modelo\n"
   ]
  },
  {
   "cell_type": "markdown",
   "id": "d4a3da47",
   "metadata": {},
   "source": [
    "### Agrupamento\n",
    "\n",
    "Algoritmos de agrupamento são utilizados quando queremos encontrar/aprender padrões em conjuntos de dados. Essa classe de algoritmos está no módulo `pyspark.ml.clustering` (veja a documentação [aqui](https://spark.apache.org/docs/latest/ml-pipeline.html)).\n",
    "\n",
    "Como exemplo veremos o clássico `KMeans`, onde tenta-se particionar o conjunto de dados ao encontrar centróides que representam os dados.\n",
    "\n",
    "![Disponivel em: https://medium.com/@luigi.fiori.lf0303/k-means-clustering-using-python-db57415d26e6](https://miro.medium.com/max/1200/1*TmvsQ4XaOxeb-TmKk1qgOw.png)\n",
    "\n",
    "\n",
    "Podemos avaliar clusters com o objeto `ClusteringEvaluator`, que possui implementação da métrica de silhueta. Porém, agrupamento costumeiramente é melhor visualizado através de gráficos. Ao invés de avaliarmos a qualidade dos grupos por uma métrica, iremos fazer plotando os pontos e os centróides."
   ]
  },
  {
   "cell_type": "code",
   "execution_count": null,
   "id": "0d0bf6bc",
   "metadata": {},
   "outputs": [],
   "source": [
    "#ler points.csv\n",
    "\n",
    "#visualizar dataset\n",
    "\n",
    "#rodar kmeans\n",
    "\n",
    "#visualizar\n"
   ]
  },
  {
   "cell_type": "markdown",
   "id": "c6fff895",
   "metadata": {},
   "source": [
    "## Pipelines\n",
    "\n",
    "Até agora executamos cada passo separadamente, desde a preparação dos dados até a execução do algoritmo de ML. Spark oferece o recurso `Pipeline`, que permite unir todos os processos de transformação de características e o algoritmo em uma única execução. Você pode ver a documentação sobre pipelines [aqui](https://spark.apache.org/docs/latest/ml-pipeline.html). \n",
    "\n",
    "Pipelines são importantes pelo simples fato que auxiliam a evitar o problema de _vazamento de dados (data leakage)_, garantindo que todo o processo seja executado na partição de treinamento primeiro, e depois na partição de teste.\n",
    "\n",
    "Vamos fazer o Pipeline para `flights_df`, encerrando com uma regressão linear."
   ]
  },
  {
   "cell_type": "code",
   "execution_count": null,
   "id": "82768e41",
   "metadata": {},
   "outputs": [],
   "source": [
    "#divindo novamente a base\n",
    "\n",
    "#construindo o pipeline\n",
    "\n",
    "#checando os passos\n",
    "\n",
    "#rodando o pipeline\n"
   ]
  },
  {
   "cell_type": "markdown",
   "id": "4148556f",
   "metadata": {},
   "source": [
    "Vamos fazer o pipeline para `sms_df`, terminando em uma regressão logística."
   ]
  },
  {
   "cell_type": "code",
   "execution_count": null,
   "id": "8b66ca12",
   "metadata": {},
   "outputs": [],
   "source": []
  },
  {
   "cell_type": "markdown",
   "id": "09590271",
   "metadata": {},
   "source": [
    "## Otimização e Validação Cruzada\n",
    "\n",
    "Spark oferece também ferramentas de otimização e seleção de hiperparâmetros para ML, dentro do módulo `pyspark.ml.tuning` (veja a \n",
    "[documentação](https://spark.apache.org/docs/latest/ml-tuning.html)). Muitos algoritmos possuem vários hiperparâmetros que muitas das vezes só conseguem ser definidos empiricamente, rodando diversas configurações ou empregando técnicas de _busca em grade_. \n",
    "\n",
    "Para busca em grade, Spark oferece o objeto `ParamGridBuilder`. Esse recurso deve ser empregado em conjunto com um mecanismo de _Validação Cruzada_, executado com um `CrossValidator`. A Validação Cruzada é uma maneira muito eficiente de fazer otimização de parâmetros, pois é executada em diversas repartições dos dados de treinamento e oferece diversas visões de como um modelo se comporta. \n",
    "\n",
    "![Disponível em: https://drigols.medium.com/introdu%C3%A7%C3%A3o-a-valida%C3%A7%C3%A3o-cruzada-k-fold-2a6bced32a90](https://miro.medium.com/max/1202/0*O_491U1UfF1lIqz_.png)\n",
    "\n",
    "Os módulos de otimização podem ser utilizados em conjunto com Pipeline. Vamos aproveitar os pipelines criados anteriormente e tentar otimizar os parâmetros dos algoritmos."
   ]
  },
  {
   "cell_type": "code",
   "execution_count": null,
   "id": "31afca73",
   "metadata": {},
   "outputs": [],
   "source": [
    "# otimização para pipeline_flights\n",
    "\n",
    "#criando um grid\n",
    "\n",
    "#criando um avaliador\n",
    "\n",
    "#rodando validação cruzada\n"
   ]
  },
  {
   "cell_type": "markdown",
   "id": "58bb4b54",
   "metadata": {},
   "source": [
    "Vamos ver os parâmetros escolhidos para o melhor modelo."
   ]
  },
  {
   "cell_type": "code",
   "execution_count": null,
   "id": "4dd96b1e",
   "metadata": {},
   "outputs": [],
   "source": []
  },
  {
   "cell_type": "markdown",
   "id": "b2eedf25",
   "metadata": {},
   "source": [
    "E finalmente, avaliar:"
   ]
  },
  {
   "cell_type": "code",
   "execution_count": null,
   "id": "e3c98e0f",
   "metadata": {},
   "outputs": [],
   "source": []
  },
  {
   "cell_type": "markdown",
   "id": "85f813d3",
   "metadata": {},
   "source": [
    "Para finalizar, vamos executar um cross validation no nosso `sms_df`. Aproveite o pipeline construído. Uma vantagem do `ParamGridBuilder` é que ele não se limita a ajustar parâmetros do algoritmo de ML. Tente ajustar o parâmetro de `HashingTF` também, além dos parâmetros selecionados para regressão logística."
   ]
  },
  {
   "cell_type": "code",
   "execution_count": null,
   "id": "d0a3120c",
   "metadata": {},
   "outputs": [],
   "source": []
  },
  {
   "cell_type": "code",
   "execution_count": null,
   "id": "8c96eaad",
   "metadata": {},
   "outputs": [],
   "source": []
  },
  {
   "cell_type": "code",
   "execution_count": null,
   "id": "4e4a237b",
   "metadata": {},
   "outputs": [],
   "source": []
  },
  {
   "cell_type": "code",
   "execution_count": null,
   "id": "8e8f3424",
   "metadata": {},
   "outputs": [],
   "source": []
  }
 ],
 "metadata": {
  "kernelspec": {
   "display_name": "Python 3 (ipykernel)",
   "language": "python",
   "name": "python3"
  },
  "language_info": {
   "codemirror_mode": {
    "name": "ipython",
    "version": 3
   },
   "file_extension": ".py",
   "mimetype": "text/x-python",
   "name": "python",
   "nbconvert_exporter": "python",
   "pygments_lexer": "ipython3",
   "version": "3.8.10"
  }
 },
 "nbformat": 4,
 "nbformat_minor": 5
}
