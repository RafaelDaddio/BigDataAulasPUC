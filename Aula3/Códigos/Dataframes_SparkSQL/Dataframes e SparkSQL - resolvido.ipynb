{
 "cells": [
  {
   "cell_type": "markdown",
   "id": "22a278e3",
   "metadata": {},
   "source": [
    "# Dataframes e SparkSQL\n",
    "\n",
    "Spark oferece abstrações de mais alto nível chamadas APIs estruturadas. Ao todo, são três: Dataframes, Datasets e SparkSQL. \n",
    "\n",
    "![Pilha de APIs, disponível em: https://www.oreilly.com/library/view/spark-the-definitive/9781491912201/](https://izhangzhihao.github.io/assets/images/spark-05.png)\n",
    "\n",
    "Datasets não são implementados em PySpark, porém veremos nesse notebook exemplos de uso das outras duas.\n",
    "\n",
    "**Dataframes** são estruturas tabulares, assim como os DataFrames de Pandas. A diferença, aqui, é que Dataframes em Spark são _distribuídos_ e construídos em cima de RDDs. \n",
    "\n",
    "**SparkSQL** é um conjunto de funcionalidades que são operadas em Dataframes. Veremos que podemos manipular Dataframes tanto programaticamente (através de _transformações_) quanto por linguagem SQL. Além disso, SparkSQL oferece uma série de outras ferramentas para a realização de operações tabulares distribuídas."
   ]
  },
  {
   "cell_type": "markdown",
   "id": "a518f377",
   "metadata": {},
   "source": [
    "Vamos começar importando PySpark e criando um objeto `SparkContext`, assim como fizemos anteriormente. Lembre-se que `SparkContext` é a porta de entrada para manipulação de RDDs."
   ]
  },
  {
   "cell_type": "code",
   "execution_count": 1,
   "id": "d30c42e7",
   "metadata": {},
   "outputs": [
    {
     "name": "stderr",
     "output_type": "stream",
     "text": [
      "2021-12-11 14:55:08,790 WARN util.Utils: Your hostname, bigdatavm-VirtualBox resolves to a loopback address: 127.0.1.1; using 10.0.2.15 instead (on interface enp0s3)\n",
      "2021-12-11 14:55:08,790 WARN util.Utils: Set SPARK_LOCAL_IP if you need to bind to another address\n",
      "Setting default log level to \"WARN\".\n",
      "To adjust logging level use sc.setLogLevel(newLevel). For SparkR, use setLogLevel(newLevel).\n",
      "2021-12-11 14:55:09,526 WARN util.NativeCodeLoader: Unable to load native-hadoop library for your platform... using builtin-java classes where applicable\n"
     ]
    }
   ],
   "source": [
    "import findspark\n",
    "findspark.init()\n",
    "\n",
    "import pyspark\n",
    "import random\n",
    "\n",
    "sc = pyspark.SparkContext(appName='Dataframes e SparkSQL')"
   ]
  },
  {
   "cell_type": "markdown",
   "id": "5b490bc8",
   "metadata": {},
   "source": [
    "# O objeto SparkSession\n",
    "\n",
    "Para manipularmos Dataframes e utilizar as funções do SparkSQL, porém, precisamos criar um objeto `SparkSession`. O `SparkSession` é um objeto que é construído em cima do SparkContext, e é o ponto de entrada para as APIs estruturadas do Spark. \n",
    "https://imgs.developpaper.com/imgs/147289973-592685e12263f_articlex.png ![SparkSession vs SparkContext em: https://developpaper.com/application-sparksession-sparkcontext-and-rdd-in-spark-and-their-extensions/](https://imgs.developpaper.com/imgs/147289973-592685e12263f_articlex.png)\n",
    "\n",
    "Para inicializar um SparkSession, importamos sua definição de `pyspark.sql` e criamos um objeto com `SparkSession.builder.getOrCreate()`. Esse método checa se já existe um `SparkSession` ativo, e se não existir, cria um novo. Observe que não precisei mencionar o `SparkContext`. Ele recupera sua instância automaticamente, ou a cria se não existir também."
   ]
  },
  {
   "cell_type": "code",
   "execution_count": 2,
   "id": "af9dc6aa",
   "metadata": {},
   "outputs": [
    {
     "name": "stdout",
     "output_type": "stream",
     "text": [
      "<pyspark.sql.session.SparkSession object at 0x7f7864133b50>\n"
     ]
    }
   ],
   "source": [
    "from pyspark.sql import SparkSession\n",
    "\n",
    "spark = SparkSession.builder.getOrCreate()\n",
    "\n",
    "print(spark)"
   ]
  },
  {
   "cell_type": "markdown",
   "id": "83750b7c",
   "metadata": {},
   "source": [
    "# Criando Dataframes\n",
    "\n",
    "Dataframes são objetos tabulares (lembre-se do _Pandas_) distribuídos. Você pode criar um dataframe lendo arquivos csv, JSON, [ORC](https://orc.apache.org/) e [Parquet](https://github.com/apache/parquet-format). Além disso, você pode criar Dataframes a partir de RDDs também. \n",
    "\n",
    "Vamos fazer alguns exemplos com a versão simplificada de leitura e criação de arquivos. Para mais opções, consultar a [documentação](https://spark.apache.org/docs/latest/sql-data-sources-load-save-functions.html):"
   ]
  },
  {
   "cell_type": "code",
   "execution_count": 3,
   "id": "c349da7f",
   "metadata": {},
   "outputs": [
    {
     "name": "stdout",
     "output_type": "stream",
     "text": [
      "+----------+-----+---+---+---+----+------+----+------+------+-------+\n",
      "|       _c0|  _c1|_c2|_c3|_c4| _c5|   _c6| _c7|   _c8|   _c9|   _c10|\n",
      "+----------+-----+---+---+---+----+------+----+------+------+-------+\n",
      "|2014-04-01|19805|  1|JFK|LAX|0854| -6.00|1217|  2.00|355.00|2475.00|\n",
      "|2014-04-01|19805|  2|LAX|JFK|0944| 14.00|1736|-29.00|269.00|2475.00|\n",
      "|2014-04-01|19805|  3|JFK|LAX|1224| -6.00|1614| 39.00|371.00|2475.00|\n",
      "|2014-04-01|19805|  4|LAX|JFK|1240| 25.00|2028|-27.00|264.00|2475.00|\n",
      "|2014-04-01|19805|  5|DFW|HNL|1300| -5.00|1650| 15.00|510.00|3784.00|\n",
      "|2014-04-01|19805|  6|OGG|DFW|1901|126.00|0640| 95.00|385.00|3711.00|\n",
      "|2014-04-01|19805|  7|DFW|OGG|1410|125.00|1743|138.00|497.00|3711.00|\n",
      "|2014-04-01|19805|  8|HNL|DFW|1659|  4.00|0458|-22.00|398.00|3784.00|\n",
      "|2014-04-01|19805|  9|JFK|LAX|0648| -7.00|1029| 19.00|365.00|2475.00|\n",
      "|2014-04-01|19805| 10|LAX|JFK|2156| 21.00|0556|  1.00|265.00|2475.00|\n",
      "+----------+-----+---+---+---+----+------+----+------+------+-------+\n",
      "only showing top 10 rows\n",
      "\n"
     ]
    }
   ],
   "source": [
    "# importando de um arquivo csv\n",
    "\n",
    "flights_df = spark.read.csv('file:///home/bigdata-vm/Desktop/BigDataAulasPUC/Datasets/Flights_old/flights.csv')\n",
    "flights_df.show(10)"
   ]
  },
  {
   "cell_type": "code",
   "execution_count": 26,
   "id": "cd62a45e",
   "metadata": {},
   "outputs": [
    {
     "name": "stdout",
     "output_type": "stream",
     "text": [
      "['hamlet@0\\t\\tHAMLET', 'hamlet@8\\t', 'hamlet@9\\t', 'hamlet@10\\t\\tDRAMATIS PERSONAE', 'hamlet@29\\t']\n",
      "[('hamlet@0', 'HAMLET'), ('hamlet@8', ''), ('hamlet@9', ''), ('hamlet@10', 'DRAMATIS PERSONAE'), ('hamlet@29', '')]\n",
      "+---------+-----------------+\n",
      "|       _1|               _2|\n",
      "+---------+-----------------+\n",
      "| hamlet@0|           HAMLET|\n",
      "| hamlet@8|                 |\n",
      "| hamlet@9|                 |\n",
      "|hamlet@10|DRAMATIS PERSONAE|\n",
      "|hamlet@29|                 |\n",
      "+---------+-----------------+\n",
      "only showing top 5 rows\n",
      "\n"
     ]
    }
   ],
   "source": [
    "# criando a partir de um RDD\n",
    "\n",
    "text_rdd = sc.textFile('file:///home/bigdata-vm/Desktop/BigDataAulasPUC/Datasets/shakespeare.txt')\n",
    "print(text_rdd.take(5))\n",
    "\n",
    "def extract_key(line):\n",
    "    split = line.split('\\t', 1)\n",
    "    return (split[0], split[1].replace('\\t', ' ').strip())\n",
    "\n",
    "text_rdd = text_rdd.map(extract_key)\n",
    "print(text_rdd.take(5))\n",
    "\n",
    "text_df = spark.createDataFrame(text_rdd)\n",
    "text_df.show(5)"
   ]
  },
  {
   "cell_type": "markdown",
   "id": "889e3986",
   "metadata": {},
   "source": [
    "# Schemas\n",
    "\n",
    "Quando lendo de um csv ou criando um Dataframe a partir de um RDD, o Spark pode fazer múltiplas leituras para automaticamente tentar inferir qual é o _Schema_ do Dataframe, ou seja, qual é a tipagem de cada coluna e se ela pode ter ou não valores _null_. "
   ]
  },
  {
   "cell_type": "code",
   "execution_count": 5,
   "id": "cc41630d",
   "metadata": {},
   "outputs": [
    {
     "name": "stdout",
     "output_type": "stream",
     "text": [
      "root\n",
      " |-- _c0: string (nullable = true)\n",
      " |-- _c1: string (nullable = true)\n",
      " |-- _c2: string (nullable = true)\n",
      " |-- _c3: string (nullable = true)\n",
      " |-- _c4: string (nullable = true)\n",
      " |-- _c5: string (nullable = true)\n",
      " |-- _c6: string (nullable = true)\n",
      " |-- _c7: string (nullable = true)\n",
      " |-- _c8: string (nullable = true)\n",
      " |-- _c9: string (nullable = true)\n",
      " |-- _c10: string (nullable = true)\n",
      "\n"
     ]
    },
    {
     "name": "stderr",
     "output_type": "stream",
     "text": [
      "\r",
      "[Stage 7:>                                                          (0 + 4) / 4]\r",
      "\r",
      "[Stage 7:==============>                                            (1 + 3) / 4]\r"
     ]
    },
    {
     "name": "stdout",
     "output_type": "stream",
     "text": [
      "1.6830875873565674\n",
      "root\n",
      " |-- _c0: string (nullable = true)\n",
      " |-- _c1: integer (nullable = true)\n",
      " |-- _c2: integer (nullable = true)\n",
      " |-- _c3: string (nullable = true)\n",
      " |-- _c4: string (nullable = true)\n",
      " |-- _c5: integer (nullable = true)\n",
      " |-- _c6: double (nullable = true)\n",
      " |-- _c7: integer (nullable = true)\n",
      " |-- _c8: double (nullable = true)\n",
      " |-- _c9: double (nullable = true)\n",
      " |-- _c10: double (nullable = true)\n",
      "\n"
     ]
    },
    {
     "name": "stderr",
     "output_type": "stream",
     "text": [
      "\r",
      "                                                                                \r"
     ]
    }
   ],
   "source": [
    "import time\n",
    "\n",
    "flights_df.printSchema()\n",
    "\n",
    "#checar schema\n",
    "start_time = time.time()\n",
    "flights_df = spark.read.csv('file:///home/bigdata-vm/Desktop/BigDataAulasPUC/Datasets/Flights_old/flights.csv', inferSchema=True)\n",
    "print(time.time() - start_time)\n",
    "flights_df.printSchema()\n"
   ]
  },
  {
   "cell_type": "markdown",
   "id": "9ebd40fa",
   "metadata": {},
   "source": [
    "A inferência de _Schema_ pode causar lentidão na leitura dos dados, devido a necessidade de eles serem lidos múltiplas vezes. Você pode, alternativamente, definir um _Schema_ e utilizá-lo na leitura. "
   ]
  },
  {
   "cell_type": "code",
   "execution_count": 6,
   "id": "f3188edd",
   "metadata": {},
   "outputs": [
    {
     "name": "stdout",
     "output_type": "stream",
     "text": [
      "0.10441422462463379\n",
      "root\n",
      " |-- dataVoo: date (nullable = true)\n",
      " |-- id_companhia: integer (nullable = true)\n",
      " |-- num_voos: integer (nullable = true)\n",
      " |-- origem: string (nullable = true)\n",
      " |-- destino: string (nullable = true)\n",
      " |-- hora_partida: integer (nullable = true)\n",
      " |-- min_atraso_partida: double (nullable = true)\n",
      " |-- hora_chegada: integer (nullable = true)\n",
      " |-- min_atraso_chegada: double (nullable = true)\n",
      " |-- duracao: double (nullable = true)\n",
      " |-- distancia: double (nullable = true)\n",
      "\n"
     ]
    }
   ],
   "source": [
    "#criar um Schema e reimportar flights.csv\n",
    "\n",
    "import pyspark.sql.types as types\n",
    "\n",
    "flights_headers_file = '/home/bigdata-vm/Desktop/BigDataAulasPUC/Datasets/Flights_old/flights_header.csv'\n",
    "with open(flights_headers_file) as f:\n",
    "    flights_header = f.read()\n",
    "\n",
    "list_headers = flights_header.split(',')\n",
    "\n",
    "flight_schema = types.StructType() \\\n",
    "                        .add(list_headers[0], types.DateType(), True) \\\n",
    "                        .add(list_headers[1], types.IntegerType(), True) \\\n",
    "                        .add(list_headers[2], types.IntegerType(), True) \\\n",
    "                        .add(list_headers[3], types.StringType(), True) \\\n",
    "                        .add(list_headers[4], types.StringType(), True) \\\n",
    "                        .add(list_headers[5], types.IntegerType(), True) \\\n",
    "                        .add(list_headers[6], types.DoubleType(), True) \\\n",
    "                        .add(list_headers[7], types.IntegerType(), True) \\\n",
    "                        .add(list_headers[8], types.DoubleType(), True) \\\n",
    "                        .add(list_headers[9], types.DoubleType(), True) \\\n",
    "                        .add(list_headers[10].strip(), types.DoubleType(), True) \\\n",
    "\n",
    "start_time = time.time()\n",
    "flight_schema_df = spark.read.format('csv').schema(flight_schema).load('file:///home/bigdata-vm/Desktop/BigDataAulasPUC/Datasets/Flights_old/flights.csv')\n",
    "print(time.time() - start_time)\n",
    "flight_schema_df.printSchema()"
   ]
  },
  {
   "cell_type": "markdown",
   "id": "f4d9c087",
   "metadata": {},
   "source": [
    "# Operações em Dataframes\n",
    "\n",
    "Vamos começar a realizar operações em Dataframes. Nesse primeiro momento, iremos ver programaticamente algumas das principais funções para manipulação de Dataframes. A maioria aqui é _transformação_, exceto aquelas que precisam devolver algum retorno para o Programa _Driver_, como `count()`, `show()` e `collect()`.\n",
    "\n",
    "### Visualizar informações sobre um Dataframe\n",
    "\n",
    "Vamos ver algumas funções básicas para retornar informações a respeito do Dataframe como um todo. São elas:\n",
    "- `count()`: retorna o número de linhas\n",
    "- `len(df.columns)`: `df.columns` retorna uma lista com o nome das colunas. Se aplicarmos `len()`, podemos ver a quantidade de colunas em um Dataframe.\n",
    "- `describe()`: retorna estatísticas sobre as colunas de um Dataframe. Podemos definir quais colunas queremos, ou a tabela inteira se não passarmos parâmetros.\n",
    "\n"
   ]
  },
  {
   "cell_type": "code",
   "execution_count": 7,
   "id": "09769f27",
   "metadata": {},
   "outputs": [
    {
     "name": "stdout",
     "output_type": "stream",
     "text": [
      "Quantidade de linhas 476881\n",
      "Quantidade de colunas 11\n",
      "Estatisticas gerais\n"
     ]
    },
    {
     "name": "stderr",
     "output_type": "stream",
     "text": [
      "                                                                                \r"
     ]
    },
    {
     "name": "stdout",
     "output_type": "stream",
     "text": [
      "+-------+-----------------+-----------------+------+-------+------------------+------------------+------------------+------------------+------------------+-----------------+\n",
      "|summary|     id_companhia|         num_voos|origem|destino|      hora_partida|min_atraso_partida|      hora_chegada|min_atraso_chegada|           duracao|        distancia|\n",
      "+-------+-----------------+-----------------+------+-------+------------------+------------------+------------------+------------------+------------------+-----------------+\n",
      "|  count|           476881|           476881|476881| 476881|            476881|            476881|            476881|            476881|            476881|           476881|\n",
      "|   mean|19990.46749818089| 2245.92602766728|  null|   null|1334.1795374527399| 8.313877046894298| 1485.241848595352| 4.728577989058067|111.04921353545224|794.8585013871385|\n",
      "| stddev|398.4945595986355|1841.066184447977|  null|   null|483.03628051072656| 33.34531644580256|509.40814513813245|35.507045105136605| 71.54639383230081|596.0053280615442|\n",
      "|    min|            19393|                1|   ABE|    ABE|                 0|             -55.0|                 0|             -88.0|               8.0|             31.0|\n",
      "|    max|            21171|             8406|   YUM|    YUM|              2359|            1696.0|              2359|            1793.0|             664.0|           4983.0|\n",
      "+-------+-----------------+-----------------+------+-------+------------------+------------------+------------------+------------------+------------------+-----------------+\n",
      "\n",
      "+-------+------------------+------------------+\n",
      "|summary|min_atraso_partida|min_atraso_chegada|\n",
      "+-------+------------------+------------------+\n",
      "|  count|            476881|            476881|\n",
      "|   mean| 8.313877046894298| 4.728577989058067|\n",
      "| stddev| 33.34531644580256|35.507045105136605|\n",
      "|    min|             -55.0|             -88.0|\n",
      "|    max|            1696.0|            1793.0|\n",
      "+-------+------------------+------------------+\n",
      "\n"
     ]
    }
   ],
   "source": [
    "print(f'Quantidade de linhas {flight_schema_df.count()}')\n",
    "print(f'Quantidade de colunas {len(flight_schema_df.columns)}')\n",
    "print('Estatisticas gerais')\n",
    "flight_schema_df.describe().show()\n",
    "flight_schema_df.describe(['min_atraso_partida', 'min_atraso_chegada']).show()"
   ]
  },
  {
   "cell_type": "markdown",
   "id": "0e49273c",
   "metadata": {},
   "source": [
    "### Select\n",
    "\n",
    "O comando `select()` opera em nível de **coluna**, filtrando quais colunas você quer exibir. Ele pode ainda criar novas colunas, com métodos que analisam valores de uma ou mais colunas linha a linha. É o equivalente ao comando `SELECT` de uma consulta SQL. "
   ]
  },
  {
   "cell_type": "code",
   "execution_count": 8,
   "id": "5059a8e6",
   "metadata": {},
   "outputs": [
    {
     "name": "stdout",
     "output_type": "stream",
     "text": [
      "Selecionando id da companhia, origem e destino\n",
      "+------------+------+-------+\n",
      "|id_companhia|origem|destino|\n",
      "+------------+------+-------+\n",
      "|       19805|   JFK|    LAX|\n",
      "|       19805|   LAX|    JFK|\n",
      "|       19805|   JFK|    LAX|\n",
      "|       19805|   LAX|    JFK|\n",
      "|       19805|   DFW|    HNL|\n",
      "|       19805|   OGG|    DFW|\n",
      "|       19805|   DFW|    OGG|\n",
      "|       19805|   HNL|    DFW|\n",
      "|       19805|   JFK|    LAX|\n",
      "|       19805|   LAX|    JFK|\n",
      "|       19805|   LAX|    JFK|\n",
      "|       19805|   OGG|    LAX|\n",
      "|       19805|   BOS|    ORD|\n",
      "|       19805|   SFO|    JFK|\n",
      "|       19805|   ATL|    MIA|\n",
      "|       19805|   SFO|    JFK|\n",
      "|       19805|   JFK|    LAX|\n",
      "|       19805|   SFO|    JFK|\n",
      "|       19805|   JFK|    LAX|\n",
      "|       19805|   LAX|    JFK|\n",
      "+------------+------+-------+\n",
      "only showing top 20 rows\n",
      "\n",
      "Selecionando id da companhia, origem e destino e colocando o tempo total de atraso do vôo\n",
      "+------------+------+-------+------------+\n",
      "|id_companhia|origem|destino|atraso_total|\n",
      "+------------+------+-------+------------+\n",
      "|       19805|   JFK|    LAX|        -4.0|\n",
      "|       19805|   LAX|    JFK|       -15.0|\n",
      "|       19805|   JFK|    LAX|        33.0|\n",
      "|       19805|   LAX|    JFK|        -2.0|\n",
      "|       19805|   DFW|    HNL|        10.0|\n",
      "|       19805|   OGG|    DFW|       221.0|\n",
      "|       19805|   DFW|    OGG|       263.0|\n",
      "|       19805|   HNL|    DFW|       -18.0|\n",
      "|       19805|   JFK|    LAX|        12.0|\n",
      "|       19805|   LAX|    JFK|        22.0|\n",
      "|       19805|   LAX|    JFK|       -42.0|\n",
      "|       19805|   OGG|    LAX|       -12.0|\n",
      "|       19805|   BOS|    ORD|       -28.0|\n",
      "|       19805|   SFO|    JFK|       -16.0|\n",
      "|       19805|   ATL|    MIA|       -22.0|\n",
      "|       19805|   SFO|    JFK|       200.0|\n",
      "|       19805|   JFK|    LAX|        12.0|\n",
      "|       19805|   SFO|    JFK|       255.0|\n",
      "|       19805|   JFK|    LAX|        12.0|\n",
      "|       19805|   LAX|    JFK|         9.0|\n",
      "+------------+------+-------+------------+\n",
      "only showing top 20 rows\n",
      "\n",
      "Selecionando data, origem, destino e o tempo de voo em horas\n",
      "+----------+------+-------+------------------+\n",
      "|   dataVoo|origem|destino|        duracao_hr|\n",
      "+----------+------+-------+------------------+\n",
      "|2014-04-01|   JFK|    LAX| 5.916666666666667|\n",
      "|2014-04-01|   LAX|    JFK| 4.483333333333333|\n",
      "|2014-04-01|   JFK|    LAX| 6.183333333333334|\n",
      "|2014-04-01|   LAX|    JFK|               4.4|\n",
      "|2014-04-01|   DFW|    HNL|               8.5|\n",
      "|2014-04-01|   OGG|    DFW| 6.416666666666667|\n",
      "|2014-04-01|   DFW|    OGG| 8.283333333333333|\n",
      "|2014-04-01|   HNL|    DFW| 6.633333333333334|\n",
      "|2014-04-01|   JFK|    LAX| 6.083333333333333|\n",
      "|2014-04-01|   LAX|    JFK| 4.416666666666667|\n",
      "|2014-04-01|   LAX|    JFK|              4.45|\n",
      "|2014-04-01|   OGG|    LAX|               4.5|\n",
      "|2014-04-01|   BOS|    ORD|              2.15|\n",
      "|2014-04-01|   SFO|    JFK| 4.466666666666667|\n",
      "|2014-04-01|   ATL|    MIA|1.3833333333333333|\n",
      "|2014-04-01|   SFO|    JFK|               4.8|\n",
      "|2014-04-01|   JFK|    LAX| 5.983333333333333|\n",
      "|2014-04-01|   SFO|    JFK| 4.616666666666666|\n",
      "|2014-04-01|   JFK|    LAX| 5.983333333333333|\n",
      "|2014-04-01|   LAX|    JFK| 4.533333333333333|\n",
      "+----------+------+-------+------------------+\n",
      "only showing top 20 rows\n",
      "\n"
     ]
    }
   ],
   "source": [
    "print('Selecionando id da companhia, origem e destino')\n",
    "flight_schema_df.select(flight_schema_df.id_companhia, flight_schema_df.origem, flight_schema_df.destino).show()\n",
    "print('Selecionando id da companhia, origem e destino e colocando o tempo total de atraso do vôo')\n",
    "flight_schema_df.select('id_companhia', 'origem', 'destino', (flight_schema_df.min_atraso_partida + flight_schema_df.min_atraso_chegada).alias('atraso_total')).show()\n",
    "print('Selecionando data, origem, destino e o tempo de voo em horas')\n",
    "duracao_hr = (flight_schema_df.duracao/60).alias('duracao_hr')\n",
    "flight_schema_df.select('dataVoo', flight_schema_df['origem'], 'destino', duracao_hr).show()"
   ]
  },
  {
   "cell_type": "markdown",
   "id": "1beb1a39",
   "metadata": {},
   "source": [
    "### Filter\n",
    "\n",
    "A função `filter()` opera em nível de **linhas**, e utiliza operações lógicas que retornam resultados _binários_. É similar ao comando `WHERE` de uma consulta SQL."
   ]
  },
  {
   "cell_type": "code",
   "execution_count": 9,
   "id": "6234fc05",
   "metadata": {},
   "outputs": [
    {
     "name": "stdout",
     "output_type": "stream",
     "text": [
      "Apresentar apenas os vôos com saída adiantada\n",
      "+----------+------------+--------+------+-------+------------+------------------+------------+------------------+-------+---------+\n",
      "|   dataVoo|id_companhia|num_voos|origem|destino|hora_partida|min_atraso_partida|hora_chegada|min_atraso_chegada|duracao|distancia|\n",
      "+----------+------------+--------+------+-------+------------+------------------+------------+------------------+-------+---------+\n",
      "|2014-04-01|       19805|       1|   JFK|    LAX|         854|              -6.0|        1217|               2.0|  355.0|   2475.0|\n",
      "|2014-04-01|       19805|       3|   JFK|    LAX|        1224|              -6.0|        1614|              39.0|  371.0|   2475.0|\n",
      "|2014-04-01|       19805|       5|   DFW|    HNL|        1300|              -5.0|        1650|              15.0|  510.0|   3784.0|\n",
      "+----------+------------+--------+------+-------+------------+------------------+------------+------------------+-------+---------+\n",
      "only showing top 3 rows\n",
      "\n",
      "Apresentar todos os vôos que não saíram nem chegaram em JFK\n",
      "+----------+------------+--------+------+-------+------------+------------------+------------+------------------+-------+---------+\n",
      "|   dataVoo|id_companhia|num_voos|origem|destino|hora_partida|min_atraso_partida|hora_chegada|min_atraso_chegada|duracao|distancia|\n",
      "+----------+------------+--------+------+-------+------------+------------------+------------+------------------+-------+---------+\n",
      "|2014-04-01|       19805|       5|   DFW|    HNL|        1300|              -5.0|        1650|              15.0|  510.0|   3784.0|\n",
      "|2014-04-01|       19805|       6|   OGG|    DFW|        1901|             126.0|         640|              95.0|  385.0|   3711.0|\n",
      "|2014-04-01|       19805|       7|   DFW|    OGG|        1410|             125.0|        1743|             138.0|  497.0|   3711.0|\n",
      "|2014-04-01|       19805|       8|   HNL|    DFW|        1659|               4.0|         458|             -22.0|  398.0|   3784.0|\n",
      "|2014-04-01|       19805|      14|   OGG|    LAX|        2235|               5.0|         618|             -17.0|  270.0|   2486.0|\n",
      "+----------+------------+--------+------+-------+------------+------------------+------------+------------------+-------+---------+\n",
      "only showing top 5 rows\n",
      "\n",
      "+----------+------------+--------+------+-------+------------+------------------+------------+------------------+-------+---------+\n",
      "|   dataVoo|id_companhia|num_voos|origem|destino|hora_partida|min_atraso_partida|hora_chegada|min_atraso_chegada|duracao|distancia|\n",
      "+----------+------------+--------+------+-------+------------+------------------+------------+------------------+-------+---------+\n",
      "|2014-04-01|       19805|       5|   DFW|    HNL|        1300|              -5.0|        1650|              15.0|  510.0|   3784.0|\n",
      "|2014-04-01|       19805|       6|   OGG|    DFW|        1901|             126.0|         640|              95.0|  385.0|   3711.0|\n",
      "|2014-04-01|       19805|       7|   DFW|    OGG|        1410|             125.0|        1743|             138.0|  497.0|   3711.0|\n",
      "|2014-04-01|       19805|       8|   HNL|    DFW|        1659|               4.0|         458|             -22.0|  398.0|   3784.0|\n",
      "|2014-04-01|       19805|      14|   OGG|    LAX|        2235|               5.0|         618|             -17.0|  270.0|   2486.0|\n",
      "+----------+------------+--------+------+-------+------------+------------------+------------+------------------+-------+---------+\n",
      "only showing top 5 rows\n",
      "\n",
      "Selecionar as colunas dataVoo, origem, destino e exibir apenas os vôos com menos de 4 horas de duração\n",
      "+----------+------+-------+------------------+\n",
      "|   dataVoo|origem|destino|        duracao_hr|\n",
      "+----------+------+-------+------------------+\n",
      "|2014-04-01|   BOS|    ORD|              2.15|\n",
      "|2014-04-01|   ATL|    MIA|1.3833333333333333|\n",
      "|2014-04-01|   DCA|    MIA|2.1666666666666665|\n",
      "|2014-04-01|   BOS|    ORD| 2.216666666666667|\n",
      "|2014-04-01|   ORD|    BOS|               1.9|\n",
      "|2014-04-01|   LGA|    PBI| 2.283333333333333|\n",
      "|2014-04-01|   PBI|    LGA|2.2666666666666666|\n",
      "|2014-04-01|   DFW|    SLC|2.3833333333333333|\n",
      "|2014-04-01|   DCA|    DFW|2.9833333333333334|\n",
      "|2014-04-01|   DFW|    DCA| 2.316666666666667|\n",
      "+----------+------+-------+------------------+\n",
      "only showing top 10 rows\n",
      "\n"
     ]
    }
   ],
   "source": [
    "print('Apresentar apenas os vôos com saída adiantada')\n",
    "flight_schema_df.filter(flight_schema_df.min_atraso_partida < 0).show(3)\n",
    "\n",
    "print('Apresentar todos os vôos que não saíram nem chegaram em JFK')\n",
    "flight_schema_df.filter((flight_schema_df.origem != 'JFK') & (flight_schema_df.destino != 'JFK')).show(5)\n",
    "flight_schema_df.filter('origem != \"JFK\" and destino != \"JFK\"').show(5)\n",
    "\n",
    "print('Selecionar as colunas dataVoo, origem, destino e exibir apenas os vôos com menos de 4 horas de duração')\n",
    "\n",
    "flight_schema_df.select('dataVoo', flight_schema_df['origem'], 'destino', duracao_hr).filter('duracao_hr < 4').show(10)"
   ]
  },
  {
   "cell_type": "markdown",
   "id": "662fab1c",
   "metadata": {},
   "source": [
    "### GroupBy\n",
    "\n",
    "A função `groupBy()` permite realizar operações de agregação no conjunto de dados. Ele equivale ao comando `GROUP BY` de consultas SQL. Pode receber como parâmetro colunas (onde opera a agregação). Se não receber nenhum parâmetro, realiza a agregação na _tabela inteira_. `groupBy()` retorna um objeto `GroupedData`, que contém várias funções de agregação como `sum()`, `mean()`, `max()`, `min()`, entre outros. A função `agg()` permite que seja feita múltiplas agregações (por exemplo, média e desvio padrão) nos dados."
   ]
  },
  {
   "cell_type": "code",
   "execution_count": 10,
   "id": "06f0e605",
   "metadata": {},
   "outputs": [
    {
     "name": "stdout",
     "output_type": "stream",
     "text": [
      "<pyspark.sql.group.GroupedData object at 0x7f782a305fa0>\n",
      "Ver o máximo de cada coluna numérica\n"
     ]
    },
    {
     "name": "stderr",
     "output_type": "stream",
     "text": [
      "\r",
      "[Stage 24:===========================================>              (3 + 1) / 4]\r",
      "\r",
      "                                                                                \r"
     ]
    },
    {
     "name": "stdout",
     "output_type": "stream",
     "text": [
      "+-----------------+-------------+-----------------+-----------------------+-----------------+-----------------------+------------+--------------+\n",
      "|max(id_companhia)|max(num_voos)|max(hora_partida)|max(min_atraso_partida)|max(hora_chegada)|max(min_atraso_chegada)|max(duracao)|max(distancia)|\n",
      "+-----------------+-------------+-----------------+-----------------------+-----------------+-----------------------+------------+--------------+\n",
      "|            21171|         8406|             2359|                 1696.0|             2359|                 1793.0|       664.0|        4983.0|\n",
      "+-----------------+-------------+-----------------+-----------------------+-----------------+-----------------------+------------+--------------+\n",
      "\n",
      "Ver o tempo médio de atraso de chegada para cada companhia\n",
      "+------------+-----------------------+\n",
      "|id_companhia|avg(min_atraso_chegada)|\n",
      "+------------+-----------------------+\n",
      "|       20398|      7.647402538117411|\n",
      "|       19690|    -1.3114698385726422|\n",
      "|       20409|       5.25846944215577|\n",
      "|       19790|     1.4517877316723153|\n",
      "|       20304|      4.376765366714813|\n",
      "|       20436|       9.48506711409396|\n",
      "|       19393|      8.751308820689024|\n",
      "|       20355|     1.1938072725150295|\n",
      "|       19805|      3.248358609210283|\n",
      "|       19930|     -2.904210609785108|\n",
      "|       20366|      8.629489330230712|\n",
      "|       19977|     1.1350779737029864|\n",
      "|       21171|     1.4380932728023113|\n",
      "|       20437|   -0.30270733798848465|\n",
      "+------------+-----------------------+\n",
      "\n",
      "Ver o tempo médio e desvio padrão de duracao para cada vôo específico\n"
     ]
    },
    {
     "name": "stderr",
     "output_type": "stream",
     "text": [
      "                                                                                \r"
     ]
    },
    {
     "name": "stdout",
     "output_type": "stream",
     "text": [
      "+------+-------+------------------+--------------------+\n",
      "|origem|destino|      avg(duracao)|stddev_samp(duracao)|\n",
      "+------+-------+------------------+--------------------+\n",
      "|   ORD|    PDX| 238.6881188118812|   9.521735147787926|\n",
      "|   BQN|    MCO|152.41379310344828|   4.953478153056487|\n",
      "|   ATL|    GSP|  29.6046511627907|  2.6678903761000994|\n",
      "|   DSM|    EWR|            127.52|   7.853449348322469|\n",
      "|   MCI|    IAH|101.92948717948718|   8.686000734951412|\n",
      "|   FSD|    ATL|119.82758620689656|   7.319587056644861|\n",
      "|   LBB|    DEN|  69.2542372881356|   3.665276112001156|\n",
      "|   SPI|    ORD|35.741176470588236|   3.559537627733312|\n",
      "|   SNA|    PHX| 52.02064896755162|  2.4871596030823113|\n",
      "|   PHL|    MCO|121.84634760705289|   8.227452691322826|\n",
      "|   PBI|    DCA| 119.1923076923077|  10.844424302909696|\n",
      "|   LAS|    LIT|152.63333333333333|   5.671971823609152|\n",
      "|   MCI|    MKE| 65.65384615384616|   3.634716135770711|\n",
      "|   MDW|    MEM|              77.5|   6.938692567440535|\n",
      "|   SMF|    BUR|54.005208333333336|  2.4052677699946887|\n",
      "|   SJC|    LIH|317.29411764705884|  16.162320014010803|\n",
      "|   EWR|    STT|204.91666666666666|   9.641020452333814|\n",
      "|   ROC|    CLE|              44.5|   3.162277660168379|\n",
      "|   CLE|    SJU|            223.75|    6.65206734782504|\n",
      "|   LAN|    TYS|              73.0|                null|\n",
      "+------+-------+------------------+--------------------+\n",
      "only showing top 20 rows\n",
      "\n",
      "Ver apenas o vôo com menor atraso total (partida + chegada) de cada par origem-destino\n"
     ]
    },
    {
     "name": "stderr",
     "output_type": "stream",
     "text": [
      "[Stage 33:==============>                                           (1 + 3) / 4]\r"
     ]
    },
    {
     "name": "stdout",
     "output_type": "stream",
     "text": [
      "+------+-------+-----------------+\n",
      "|origem|destino|min(atraso_total)|\n",
      "+------+-------+-----------------+\n",
      "|   ORD|    PDX|            -52.0|\n",
      "|   BQN|    MCO|            -39.0|\n",
      "|   ATL|    GSP|            -31.0|\n",
      "|   DSM|    EWR|            -40.0|\n",
      "|   MCI|    IAH|            -48.0|\n",
      "|   FSD|    ATL|            -46.0|\n",
      "|   LBB|    DEN|            -29.0|\n",
      "|   SPI|    ORD|            -27.0|\n",
      "|   SNA|    PHX|            -31.0|\n",
      "|   PHL|    MCO|            -48.0|\n",
      "|   PBI|    DCA|            -30.0|\n",
      "|   LAS|    LIT|            -23.0|\n",
      "|   MCI|    MKE|            -19.0|\n",
      "|   MDW|    MEM|            -28.0|\n",
      "|   SMF|    BUR|            -22.0|\n",
      "|   SJC|    LIH|            -45.0|\n",
      "|   EWR|    STT|            -46.0|\n",
      "|   ROC|    CLE|            -53.0|\n",
      "|   CLE|    SJU|            -22.0|\n",
      "|   LAN|    TYS|            -98.0|\n",
      "+------+-------+-----------------+\n",
      "only showing top 20 rows\n",
      "\n"
     ]
    },
    {
     "name": "stderr",
     "output_type": "stream",
     "text": [
      "\r",
      "[Stage 33:===========================================>              (3 + 1) / 4]\r",
      "\r",
      "                                                                                \r"
     ]
    }
   ],
   "source": [
    "print(flight_schema_df.groupBy())\n",
    "\n",
    "print('Ver o máximo de cada coluna numérica')\n",
    "flight_schema_df.groupBy().max().show()\n",
    "\n",
    "print('Ver o tempo médio de atraso de chegada para cada companhia')\n",
    "flight_schema_df.groupBy('id_companhia').mean('min_atraso_chegada').show()\n",
    "\n",
    "print('Ver o tempo médio e desvio padrão de duracao para cada vôo específico')\n",
    "from pyspark.sql.functions import mean, stddev\n",
    "\n",
    "flight_schema_df.groupBy('origem','destino').agg(mean('duracao'), stddev('duracao')).show()\n",
    "\n",
    "print('Ver apenas o vôo com menor atraso total (partida + chegada) de cada par origem-destino')\n",
    "atraso_total = (flight_schema_df.min_atraso_partida + flight_schema_df.min_atraso_chegada).alias('atraso_total')\n",
    "flight_schema_df.select('origem', 'destino', atraso_total).groupBy('origem', 'destino').min('atraso_total').show()\n"
   ]
  },
  {
   "cell_type": "markdown",
   "id": "08c45dfc",
   "metadata": {},
   "source": [
    "## Adicionar e remover colunas/linhas\n",
    "\n",
    "Mais algumas funções que manipulam linhas e colunas, porém não criam _subconjuntos_ dos dados como as funções acima.\n",
    "\n",
    "- `withColumn()`: adiciona uma coluna nova ao Dataframe e o retorna\n",
    "- `drop()`: remove uma coluna do Dataframe e o retorna\n",
    "- `distinct()`: remove linhas duplicadas  \n",
    "- `dropDuplicates()`: remove linhas duplicadas, porém é possível passar um subconjunto de colunas para realizar a checagem"
   ]
  },
  {
   "cell_type": "code",
   "execution_count": 11,
   "id": "9100507e",
   "metadata": {},
   "outputs": [
    {
     "name": "stdout",
     "output_type": "stream",
     "text": [
      "Adicionando uma nova coluna com a duração da da viagem em horas\n",
      "+----------+------------+--------+------+-------+------------+------------------+------------+------------------+-------+---------+------------------+\n",
      "|   dataVoo|id_companhia|num_voos|origem|destino|hora_partida|min_atraso_partida|hora_chegada|min_atraso_chegada|duracao|distancia|     duracao_horas|\n",
      "+----------+------------+--------+------+-------+------------+------------------+------------+------------------+-------+---------+------------------+\n",
      "|2014-04-01|       19805|       1|   JFK|    LAX|         854|              -6.0|        1217|               2.0|  355.0|   2475.0| 5.916666666666667|\n",
      "|2014-04-01|       19805|       2|   LAX|    JFK|         944|              14.0|        1736|             -29.0|  269.0|   2475.0| 4.483333333333333|\n",
      "|2014-04-01|       19805|       3|   JFK|    LAX|        1224|              -6.0|        1614|              39.0|  371.0|   2475.0| 6.183333333333334|\n",
      "|2014-04-01|       19805|       4|   LAX|    JFK|        1240|              25.0|        2028|             -27.0|  264.0|   2475.0|               4.4|\n",
      "|2014-04-01|       19805|       5|   DFW|    HNL|        1300|              -5.0|        1650|              15.0|  510.0|   3784.0|               8.5|\n",
      "|2014-04-01|       19805|       6|   OGG|    DFW|        1901|             126.0|         640|              95.0|  385.0|   3711.0| 6.416666666666667|\n",
      "|2014-04-01|       19805|       7|   DFW|    OGG|        1410|             125.0|        1743|             138.0|  497.0|   3711.0| 8.283333333333333|\n",
      "|2014-04-01|       19805|       8|   HNL|    DFW|        1659|               4.0|         458|             -22.0|  398.0|   3784.0| 6.633333333333334|\n",
      "|2014-04-01|       19805|       9|   JFK|    LAX|         648|              -7.0|        1029|              19.0|  365.0|   2475.0| 6.083333333333333|\n",
      "|2014-04-01|       19805|      10|   LAX|    JFK|        2156|              21.0|         556|               1.0|  265.0|   2475.0| 4.416666666666667|\n",
      "|2014-04-01|       19805|      12|   LAX|    JFK|        1113|              -2.0|        1910|             -40.0|  267.0|   2475.0|              4.45|\n",
      "|2014-04-01|       19805|      14|   OGG|    LAX|        2235|               5.0|         618|             -17.0|  270.0|   2486.0|               4.5|\n",
      "|2014-04-01|       19805|      15|   BOS|    ORD|         611|              -9.0|         756|             -19.0|  129.0|    867.0|              2.15|\n",
      "|2014-04-01|       19805|      16|   SFO|    JFK|        1312|              17.0|        2107|             -33.0|  268.0|   2586.0| 4.466666666666667|\n",
      "|2014-04-01|       19805|      17|   ATL|    MIA|         630|              -5.0|         813|             -17.0|   83.0|    594.0|1.3833333333333333|\n",
      "|2014-04-01|       19805|      18|   SFO|    JFK|          22|             112.0|         833|              88.0|  288.0|   2586.0|               4.8|\n",
      "|2014-04-01|       19805|      19|   JFK|    LAX|        1024|              -6.0|        1353|              18.0|  359.0|   2475.0| 5.983333333333333|\n",
      "|2014-04-01|       19805|      20|   SFO|    JFK|        1715|             135.0|         130|             120.0|  277.0|   2586.0| 4.616666666666666|\n",
      "|2014-04-01|       19805|      21|   JFK|    LAX|        1906|              -4.0|        2246|              16.0|  359.0|   2475.0| 5.983333333333333|\n",
      "|2014-04-01|       19805|      22|   LAX|    JFK|        1458|              -2.0|        2336|              11.0|  272.0|   2475.0| 4.533333333333333|\n",
      "+----------+------------+--------+------+-------+------------+------------------+------------+------------------+-------+---------+------------------+\n",
      "only showing top 20 rows\n",
      "\n",
      "Removendo data, hora_partida e hora_chegada e duracao\n",
      "+------------+--------+------+-------+------------------+------------------+---------+------------------+\n",
      "|id_companhia|num_voos|origem|destino|min_atraso_partida|min_atraso_chegada|distancia|     duracao_horas|\n",
      "+------------+--------+------+-------+------------------+------------------+---------+------------------+\n",
      "|       19805|       1|   JFK|    LAX|              -6.0|               2.0|   2475.0| 5.916666666666667|\n",
      "|       19805|       2|   LAX|    JFK|              14.0|             -29.0|   2475.0| 4.483333333333333|\n",
      "|       19805|       3|   JFK|    LAX|              -6.0|              39.0|   2475.0| 6.183333333333334|\n",
      "|       19805|       4|   LAX|    JFK|              25.0|             -27.0|   2475.0|               4.4|\n",
      "|       19805|       5|   DFW|    HNL|              -5.0|              15.0|   3784.0|               8.5|\n",
      "|       19805|       6|   OGG|    DFW|             126.0|              95.0|   3711.0| 6.416666666666667|\n",
      "|       19805|       7|   DFW|    OGG|             125.0|             138.0|   3711.0| 8.283333333333333|\n",
      "|       19805|       8|   HNL|    DFW|               4.0|             -22.0|   3784.0| 6.633333333333334|\n",
      "|       19805|       9|   JFK|    LAX|              -7.0|              19.0|   2475.0| 6.083333333333333|\n",
      "|       19805|      10|   LAX|    JFK|              21.0|               1.0|   2475.0| 4.416666666666667|\n",
      "|       19805|      12|   LAX|    JFK|              -2.0|             -40.0|   2475.0|              4.45|\n",
      "|       19805|      14|   OGG|    LAX|               5.0|             -17.0|   2486.0|               4.5|\n",
      "|       19805|      15|   BOS|    ORD|              -9.0|             -19.0|    867.0|              2.15|\n",
      "|       19805|      16|   SFO|    JFK|              17.0|             -33.0|   2586.0| 4.466666666666667|\n",
      "|       19805|      17|   ATL|    MIA|              -5.0|             -17.0|    594.0|1.3833333333333333|\n",
      "|       19805|      18|   SFO|    JFK|             112.0|              88.0|   2586.0|               4.8|\n",
      "|       19805|      19|   JFK|    LAX|              -6.0|              18.0|   2475.0| 5.983333333333333|\n",
      "|       19805|      20|   SFO|    JFK|             135.0|             120.0|   2586.0| 4.616666666666666|\n",
      "|       19805|      21|   JFK|    LAX|              -4.0|              16.0|   2475.0| 5.983333333333333|\n",
      "|       19805|      22|   LAX|    JFK|              -2.0|              11.0|   2475.0| 4.533333333333333|\n",
      "+------------+--------+------+-------+------------------+------------------+---------+------------------+\n",
      "only showing top 20 rows\n",
      "\n",
      "Removendo duplicatas\n",
      "476881\n"
     ]
    },
    {
     "name": "stderr",
     "output_type": "stream",
     "text": [
      "[Stage 41:===========================================>              (3 + 1) / 4]\r"
     ]
    },
    {
     "name": "stdout",
     "output_type": "stream",
     "text": [
      "475597\n",
      "Mantendo apenas um vôo por origem-destino\n"
     ]
    },
    {
     "name": "stderr",
     "output_type": "stream",
     "text": [
      "\r",
      "                                                                                \r"
     ]
    },
    {
     "name": "stdout",
     "output_type": "stream",
     "text": [
      "4016\n"
     ]
    }
   ],
   "source": [
    "print('Adicionando uma nova coluna com a duração da da viagem em horas')\n",
    "flight_schema_df = flight_schema_df.withColumn('duracao_horas', flight_schema_df.duracao/60)\n",
    "flight_schema_df.show()\n",
    "\n",
    "print('Removendo data, hora_partida e hora_chegada e duracao')\n",
    "flight_schema_df = flight_schema_df.drop(*['dataVoo','hora_partida', 'hora_chegada', 'duracao'])\n",
    "flight_schema_df.show()\n",
    "\n",
    "print('Removendo duplicatas')\n",
    "print(flight_schema_df.count())\n",
    "print(flight_schema_df.distinct().count())\n",
    "print('Mantendo apenas um vôo por origem-destino')\n",
    "print(flight_schema_df.dropDuplicates(['origem', 'destino']).count())"
   ]
  },
  {
   "cell_type": "markdown",
   "id": "89d2c88d",
   "metadata": {},
   "source": [
    "### OrderBy\n",
    "\n",
    "A função `orderBy()` aceita dois argumentos: uma coluna (ou lista de colunas) que deverão ser usadas na ordenação, e um _boolean_ (ou lista de _booleans_) definindo ordem ascendente ou não."
   ]
  },
  {
   "cell_type": "code",
   "execution_count": 12,
   "id": "27977434",
   "metadata": {},
   "outputs": [
    {
     "name": "stdout",
     "output_type": "stream",
     "text": [
      "Ordenando decrescentemente por duração\n",
      "+------------+--------+------+-------+------------------+------------------+---------+------------------+\n",
      "|id_companhia|num_voos|origem|destino|min_atraso_partida|min_atraso_chegada|distancia|     duracao_horas|\n",
      "+------------+--------+------+-------+------------------+------------------+---------+------------------+\n",
      "|       19977|      15|   EWR|    HNL|              45.0|              97.0|   4962.0|11.066666666666666|\n",
      "|       19690|      51|   JFK|    HNL|              -6.0|              28.0|   4983.0|11.066666666666666|\n",
      "|       19690|      51|   JFK|    HNL|             -17.0|               1.0|   4983.0|10.916666666666666|\n",
      "|       19690|      51|   JFK|    HNL|              -3.0|              14.0|   4983.0|              10.9|\n",
      "|       19690|      51|   JFK|    HNL|               0.0|              31.0|   4983.0|10.866666666666667|\n",
      "|       19690|      51|   JFK|    HNL|              -9.0|              12.0|   4983.0|             10.85|\n",
      "|       19977|      15|   EWR|    HNL|              -7.0|              27.0|   4962.0|              10.7|\n",
      "|       19690|      51|   JFK|    HNL|              -9.0|              -9.0|   4983.0|             10.65|\n",
      "|       19690|      51|   JFK|    HNL|             -13.0|              -8.0|   4983.0|10.633333333333333|\n",
      "|       19977|      15|   EWR|    HNL|              15.0|              48.0|   4962.0|10.633333333333333|\n",
      "+------------+--------+------+-------+------------------+------------------+---------+------------------+\n",
      "only showing top 10 rows\n",
      "\n",
      "Ordenando ascendentemente por origem e destino\n",
      "+------------+--------+------+-------+------------------+------------------+---------+------------------+\n",
      "|id_companhia|num_voos|origem|destino|min_atraso_partida|min_atraso_chegada|distancia|     duracao_horas|\n",
      "+------------+--------+------+-------+------------------+------------------+---------+------------------+\n",
      "|       19790|    2570|   ABE|    ATL|              -2.0|             -17.0|    692.0|1.5833333333333333|\n",
      "|       20366|    4943|   ABE|    ATL|             -14.0|             -21.0|    692.0|1.7166666666666666|\n",
      "|       20366|    5309|   ABE|    ATL|              -8.0|              -6.0|    692.0|              1.75|\n",
      "|       19790|    2570|   ABE|    ATL|              -6.0|             -10.0|    692.0|1.6333333333333333|\n",
      "|       20366|    4943|   ABE|    ATL|               3.0|              -6.0|    692.0|1.7333333333333334|\n",
      "|       20366|    5309|   ABE|    ATL|              -3.0|             -20.0|    692.0|1.6666666666666667|\n",
      "|       19790|    2570|   ABE|    ATL|               0.0|             -16.0|    692.0|1.6833333333333333|\n",
      "|       20366|    4943|   ABE|    ATL|              -9.0|             -14.0|    692.0|1.7833333333333334|\n",
      "|       20366|    5309|   ABE|    ATL|              -7.0|              -8.0|    692.0|               1.9|\n",
      "|       19790|    2570|   ABE|    ATL|              -8.0|             -14.0|    692.0|1.7833333333333334|\n",
      "+------------+--------+------+-------+------------------+------------------+---------+------------------+\n",
      "only showing top 10 rows\n",
      "\n"
     ]
    }
   ],
   "source": [
    "print(\"Ordenando decrescentemente por duração\")\n",
    "flight_schema_df.orderBy('duracao_horas', ascending=False).show(10)\n",
    "\n",
    "print(\"Ordenando ascendentemente por origem e destino\")\n",
    "flight_schema_df.orderBy(['origem','destino'], ascending=True).show(10)"
   ]
  },
  {
   "cell_type": "markdown",
   "id": "55862d13",
   "metadata": {},
   "source": [
    "### Join\n",
    "\n",
    "A função `join()` une dois Dataframes a partir de uma coluna em comum. Há vários tipos diferentes de joins no Spark:\n",
    "\n",
    "![Tipos de join. Disponível em: https://medium.com/bild-journal/pyspark-joins-explained-9c4fba124839](https://miro.medium.com/max/622/1*6d7MzkjxS0eBWjOJN5TaAQ.jpeg)\n",
    "\n",
    "Todos os tipos de join mostrados acima podem ser usados junto com o método. Vamos ver dois exemplos: `'left_outer'` e `'inner'`. Os demais tipos estão listados na [documentação](https://spark.apache.org/docs/3.1.1/api/python/reference/api/pyspark.sql.DataFrame.join.html)."
   ]
  },
  {
   "cell_type": "code",
   "execution_count": 13,
   "id": "b90788ee",
   "metadata": {
    "scrolled": true
   },
   "outputs": [
    {
     "name": "stdout",
     "output_type": "stream",
     "text": [
      "Lendo novos datasets\n",
      "+----+-----+---+--------+---------+--------+---------+-------+-------+------+------+----+--------+--------+----+------+\n",
      "|year|month|day|dep_time|dep_delay|arr_time|arr_delay|carrier|tailnum|flight|origin|dest|air_time|distance|hour|minute|\n",
      "+----+-----+---+--------+---------+--------+---------+-------+-------+------+------+----+--------+--------+----+------+\n",
      "|2014|   12|  8|     658|       -7|     935|       -5|     VX| N846VA|  1780|   SEA| LAX|     132|     954|   6|    58|\n",
      "|2014|    1| 22|    1040|        5|    1505|        5|     AS| N559AS|   851|   SEA| HNL|     360|    2677|  10|    40|\n",
      "|2014|    3|  9|    1443|       -2|    1652|        2|     VX| N847VA|   755|   SEA| SFO|     111|     679|  14|    43|\n",
      "|2014|    4|  9|    1705|       45|    1839|       34|     WN| N360SW|   344|   PDX| SJC|      83|     569|  17|     5|\n",
      "|2014|    3|  9|     754|       -1|    1015|        1|     AS| N612AS|   522|   SEA| BUR|     127|     937|   7|    54|\n",
      "|2014|    1| 15|    1037|        7|    1352|        2|     WN| N646SW|    48|   PDX| DEN|     121|     991|  10|    37|\n",
      "|2014|    7|  2|     847|       42|    1041|       51|     WN| N422WN|  1520|   PDX| OAK|      90|     543|   8|    47|\n",
      "|2014|    5| 12|    1655|       -5|    1842|      -18|     VX| N361VA|   755|   SEA| SFO|      98|     679|  16|    55|\n",
      "|2014|    4| 19|    1236|       -4|    1508|       -7|     AS| N309AS|   490|   SEA| SAN|     135|    1050|  12|    36|\n",
      "|2014|   11| 19|    1812|       -3|    2352|       -4|     AS| N564AS|    26|   SEA| ORD|     198|    1721|  18|    12|\n",
      "+----+-----+---+--------+---------+--------+---------+-------+-------+------+------+----+--------+--------+----+------+\n",
      "only showing top 10 rows\n",
      "\n",
      "+-------+----------+--------------------+----------------+--------+-------+-----+-----+---------+\n",
      "|tailnum|year_plane|                type|    manufacturer|   model|engines|seats|speed|   engine|\n",
      "+-------+----------+--------------------+----------------+--------+-------+-----+-----+---------+\n",
      "| N102UW|      1998|Fixed wing multi ...|AIRBUS INDUSTRIE|A320-214|      2|  182|   NA|Turbo-fan|\n",
      "| N103US|      1999|Fixed wing multi ...|AIRBUS INDUSTRIE|A320-214|      2|  182|   NA|Turbo-fan|\n",
      "| N104UW|      1999|Fixed wing multi ...|AIRBUS INDUSTRIE|A320-214|      2|  182|   NA|Turbo-fan|\n",
      "| N105UW|      1999|Fixed wing multi ...|AIRBUS INDUSTRIE|A320-214|      2|  182|   NA|Turbo-fan|\n",
      "| N107US|      1999|Fixed wing multi ...|AIRBUS INDUSTRIE|A320-214|      2|  182|   NA|Turbo-fan|\n",
      "| N108UW|      1999|Fixed wing multi ...|AIRBUS INDUSTRIE|A320-214|      2|  182|   NA|Turbo-fan|\n",
      "| N109UW|      1999|Fixed wing multi ...|AIRBUS INDUSTRIE|A320-214|      2|  182|   NA|Turbo-fan|\n",
      "| N110UW|      1999|Fixed wing multi ...|AIRBUS INDUSTRIE|A320-214|      2|  182|   NA|Turbo-fan|\n",
      "| N111US|      1999|Fixed wing multi ...|AIRBUS INDUSTRIE|A320-214|      2|  182|   NA|Turbo-fan|\n",
      "| N11206|      2000|Fixed wing multi ...|          BOEING| 737-824|      2|  149|   NA|Turbo-fan|\n",
      "+-------+----------+--------------------+----------------+--------+-------+-----+-----+---------+\n",
      "only showing top 10 rows\n",
      "\n",
      "Fazendo left outer join\n",
      "+-------+----+-----+---+--------+---------+--------+---------+-------+------+------+----+--------+--------+----+------+----------+----+------------+-----+-------+-----+-----+------+\n",
      "|tailnum|year|month|day|dep_time|dep_delay|arr_time|arr_delay|carrier|flight|origin|dest|air_time|distance|hour|minute|year_plane|type|manufacturer|model|engines|seats|speed|engine|\n",
      "+-------+----+-----+---+--------+---------+--------+---------+-------+------+------+----+--------+--------+----+------+----------+----+------------+-----+-------+-----+-----+------+\n",
      "| N4YJAA|2014|   11| 19|     601|        1|    1129|      -16|     AA|  1534|   PDX| DFW|     189|    1616|   6|     1|      null|null|        null| null|   null| null| null|  null|\n",
      "| N3EKAA|2014|    6| 14|    1623|       -7|    2149|      -26|     AA|  1181|   SEA| DFW|     191|    1660|  16|    23|      null|null|        null| null|   null| null| null|  null|\n",
      "| N3DRAA|2014|    5| 18|     826|       -4|    1428|       -2|     AA|  1236|   SEA| ORD|     204|    1721|   8|    26|      null|null|        null| null|   null| null| null|  null|\n",
      "| N4YDAA|2014|    2| 23|     827|       22|    1358|        8|     AA|  1220|   PDX| DFW|     183|    1616|   8|    27|      null|null|        null| null|   null| null| null|  null|\n",
      "|     NA|2014|    3|  4|      NA|       NA|      NA|       NA|     UA|   156|   SEA| DEN|      NA|    1024|  NA|    NA|      null|null|        null| null|   null| null| null|  null|\n",
      "| N585UA|2014|    8| 24|     546|        1|    1159|        3|     UA|   389|   SEA| IAH|     225|    1874|   5|    46|      null|null|        null| null|   null| null| null|  null|\n",
      "| N3FDAA|2014|   12| 11|    1639|       54|    2221|       51|     AA|  2335|   SEA| DFW|     205|    1660|  16|    39|      null|null|        null| null|   null| null| null|  null|\n",
      "| N3ELAA|2014|    2| 12|     602|       -3|    1123|      -32|     AA|  1094|   SEA| DFW|     178|    1660|   6|     2|      null|null|        null| null|   null| null| null|  null|\n",
      "| N3EJAA|2014|    6| 23|     659|       -6|    1255|        0|     AA|    86|   PDX| ORD|     212|    1739|   6|    59|      null|null|        null| null|   null| null| null|  null|\n",
      "| N3ERAA|2014|    3| 20|     818|       -2|    1401|      -19|     AA|  1236|   SEA| ORD|     194|    1721|   8|    18|      null|null|        null| null|   null| null| null|  null|\n",
      "| N4XSAA|2014|    4| 30|     600|        0|    1144|        4|     AA|  1650|   PDX| DFW|     196|    1616|   6|     0|      null|null|        null| null|   null| null| null|  null|\n",
      "| N569UA|2014|    8| 20|    1500|       12|    1657|       -3|     UA|   720|   SEA| SFO|      92|     679|  15|     0|      null|null|        null| null|   null| null| null|  null|\n",
      "| N3DEAA|2014|    4|  8|    1546|       -4|    2115|      -10|     AA|  2248|   SEA| DFW|     193|    1660|  15|    46|      null|null|        null| null|   null| null| null|  null|\n",
      "| N3FBAA|2014|    9| 18|    1135|       -5|    1746|       11|     AA|  1628|   SEA| ORD|     200|    1721|  11|    35|      null|null|        null| null|   null| null| null|  null|\n",
      "|     NA|2014|    1|  3|      NA|       NA|      NA|       NA|     US|   553|   SEA| PHL|      NA|    2378|  NA|    NA|      null|null|        null| null|   null| null| null|  null|\n",
      "| N755AS|2014|    6|  9|     838|       -2|    1120|      -15|     AS|   728|   SEA| SLC|      88|     689|   8|    38|      null|null|        null| null|   null| null| null|  null|\n",
      "| N3GUAA|2014|    9| 28|     557|       -3|    1208|       18|     AA|  1094|   SEA| DFW|     220|    1660|   5|    57|      null|null|        null| null|   null| null| null|  null|\n",
      "| N4YTAA|2014|    3| 30|     801|       -4|    1425|       40|     AA|  1220|   PDX| DFW|     202|    1616|   8|     1|      null|null|        null| null|   null| null| null|  null|\n",
      "| N755AS|2014|    5| 10|    1826|       -4|    2019|      -23|     AS|   302|   SEA| SFO|      89|     679|  18|    26|      null|null|        null| null|   null| null| null|  null|\n",
      "| N5CNAA|2014|    3|  9|    2219|       -1|     644|      -11|     AA|  1070|   SEA| MIA|     303|    2724|  22|    19|      null|null|        null| null|   null| null| null|  null|\n",
      "+-------+----+-----+---+--------+---------+--------+---------+-------+------+------+----+--------+--------+----+------+----------+----+------------+-----+-------+-----+-----+------+\n",
      "only showing top 20 rows\n",
      "\n",
      "Fazendo inner join\n",
      "+-------+----+-----+---+--------+---------+--------+---------+-------+------+------+----+--------+--------+----+------+----------+----+------------+-----+-------+-----+-----+------+\n",
      "|tailnum|year|month|day|dep_time|dep_delay|arr_time|arr_delay|carrier|flight|origin|dest|air_time|distance|hour|minute|year_plane|type|manufacturer|model|engines|seats|speed|engine|\n",
      "+-------+----+-----+---+--------+---------+--------+---------+-------+------+------+----+--------+--------+----+------+----------+----+------------+-----+-------+-----+-----+------+\n",
      "+-------+----+-----+---+--------+---------+--------+---------+-------+------+------+----+--------+--------+----+------+----------+----+------------+-----+-------+-----+-----+------+\n",
      "\n"
     ]
    },
    {
     "name": "stdout",
     "output_type": "stream",
     "text": [
      "+-------+----+-----+---+--------+---------+--------+---------+-------+------+------+----+--------+--------+----+------+----------+--------------------+--------------+-----------+-------+-----+-----+---------+\n",
      "|tailnum|year|month|day|dep_time|dep_delay|arr_time|arr_delay|carrier|flight|origin|dest|air_time|distance|hour|minute|year_plane|                type|  manufacturer|      model|engines|seats|speed|   engine|\n",
      "+-------+----+-----+---+--------+---------+--------+---------+-------+------+------+----+--------+--------+----+------+----------+--------------------+--------------+-----------+-------+-----+-----+---------+\n",
      "| N846VA|2014|   12|  8|     658|       -7|     935|       -5|     VX|  1780|   SEA| LAX|     132|     954|   6|    58|      2011|Fixed wing multi ...|        AIRBUS|   A320-214|      2|  182|   NA|Turbo-fan|\n",
      "| N559AS|2014|    1| 22|    1040|        5|    1505|        5|     AS|   851|   SEA| HNL|     360|    2677|  10|    40|      2006|Fixed wing multi ...|        BOEING|    737-890|      2|  149|   NA|Turbo-fan|\n",
      "| N847VA|2014|    3|  9|    1443|       -2|    1652|        2|     VX|   755|   SEA| SFO|     111|     679|  14|    43|      2011|Fixed wing multi ...|        AIRBUS|   A320-214|      2|  182|   NA|Turbo-fan|\n",
      "| N360SW|2014|    4|  9|    1705|       45|    1839|       34|     WN|   344|   PDX| SJC|      83|     569|  17|     5|      1992|Fixed wing multi ...|        BOEING|    737-3H4|      2|  149|   NA|Turbo-fan|\n",
      "| N612AS|2014|    3|  9|     754|       -1|    1015|        1|     AS|   522|   SEA| BUR|     127|     937|   7|    54|      1999|Fixed wing multi ...|        BOEING|    737-790|      2|  151|   NA|Turbo-jet|\n",
      "| N646SW|2014|    1| 15|    1037|        7|    1352|        2|     WN|    48|   PDX| DEN|     121|     991|  10|    37|      1997|Fixed wing multi ...|        BOEING|    737-3H4|      2|  149|   NA|Turbo-fan|\n",
      "| N422WN|2014|    7|  2|     847|       42|    1041|       51|     WN|  1520|   PDX| OAK|      90|     543|   8|    47|      2002|Fixed wing multi ...|        BOEING|    737-7H4|      2|  140|   NA|Turbo-fan|\n",
      "| N361VA|2014|    5| 12|    1655|       -5|    1842|      -18|     VX|   755|   SEA| SFO|      98|     679|  16|    55|      2013|Fixed wing multi ...|        AIRBUS|   A320-214|      2|  182|   NA|Turbo-fan|\n",
      "| N309AS|2014|    4| 19|    1236|       -4|    1508|       -7|     AS|   490|   SEA| SAN|     135|    1050|  12|    36|      2001|Fixed wing multi ...|        BOEING|    737-990|      2|  149|   NA|Turbo-jet|\n",
      "| N564AS|2014|   11| 19|    1812|       -3|    2352|       -4|     AS|    26|   SEA| ORD|     198|    1721|  18|    12|      2006|Fixed wing multi ...|        BOEING|    737-890|      2|  149|   NA|Turbo-fan|\n",
      "| N323AS|2014|   11|  8|    1653|       -2|    1924|       -1|     AS|   448|   SEA| LAX|     130|     954|  16|    53|      2004|Fixed wing multi ...|        BOEING|    737-990|      2|  149|   NA|Turbo-jet|\n",
      "| N305AS|2014|    8|  3|    1120|        0|    1415|        2|     AS|   656|   SEA| PHX|     154|    1107|  11|    20|      2001|Fixed wing multi ...|        BOEING|    737-990|      2|  149|   NA|Turbo-jet|\n",
      "| N433AS|2014|   10| 30|     811|       21|    1038|       29|     AS|   608|   SEA| LAS|     127|     867|   8|    11|      2013|Fixed wing multi ...|        BOEING|  737-990ER|      2|  222|   NA|Turbo-fan|\n",
      "| N765AS|2014|   11| 12|    2346|       -4|     217|      -28|     AS|   121|   SEA| ANC|     183|    1448|  23|    46|      1992|Fixed wing multi ...|        BOEING|    737-4Q8|      2|  149|   NA|Turbo-fan|\n",
      "| N713AS|2014|   10| 31|    1314|       89|    1544|      111|     AS|   306|   SEA| SFO|     129|     679|  13|    14|      1999|Fixed wing multi ...|        BOEING|    737-490|      2|  149|   NA|Turbo-jet|\n",
      "| N27205|2014|    1| 29|    2009|        3|    2159|        9|     UA|  1458|   PDX| SFO|      90|     550|  20|     9|      2000|Fixed wing multi ...|        BOEING|    737-824|      2|  149|   NA|Turbo-fan|\n",
      "| N626AS|2014|   12| 17|    2015|       50|    2150|       41|     AS|   368|   SEA| SMF|      76|     605|  20|    15|      2001|Fixed wing multi ...|        BOEING|    737-790|      2|  151|   NA|Turbo-jet|\n",
      "| N8634A|2014|    8| 11|    1017|       -3|    1613|       -7|     WN|   827|   SEA| MDW|     216|    1733|  10|    17|      2014|Fixed wing multi ...|        BOEING|    737-8H4|      2|  140|   NA|Turbo-fan|\n",
      "| N597AS|2014|    1| 13|    2156|       -9|     607|      -15|     AS|    24|   SEA| BOS|     290|    2496|  21|    56|      2008|Fixed wing multi ...|        BOEING|    737-890|      2|  149|   NA|Turbo-fan|\n",
      "| N215AG|2014|    6|  5|    1733|      -12|    1945|      -10|     OO|  3488|   PDX| BUR|     111|     817|  17|    33|      2001|Fixed wing multi ...|BOMBARDIER INC|CL-600-2C10|      2|   80|   NA|Turbo-fan|\n",
      "+-------+----+-----+---+--------+---------+--------+---------+-------+------+------+----+--------+--------+----+------+----------+--------------------+--------------+-----------+-------+-----+-----+---------+\n",
      "only showing top 20 rows\n",
      "\n"
     ]
    }
   ],
   "source": [
    "print('Lendo novos datasets')\n",
    "flights_df2 = spark.read.csv('file:///home/bigdata-vm/Desktop/BigDataAulasPUC/Datasets/Flights_new/flights.csv', header=True)\n",
    "flights_df2.show(10)\n",
    "airplanes_df = spark.read.csv('file:///home/bigdata-vm/Desktop/BigDataAulasPUC/Datasets/Flights_new/airplanes.csv', header=True)\n",
    "airplanes_df = airplanes_df.withColumnRenamed('year', 'year_plane')\n",
    "airplanes_df.show(10)\n",
    "\n",
    "print('Fazendo left outer join')\n",
    "flights_planes_df = flights_df2.join(airplanes_df, on='tailnum', how='left_outer')\n",
    "flights_planes_df.filter(flights_planes_df.model.isNull()).show()\n",
    "\n",
    "print('Fazendo inner join')\n",
    "flights_planes_df = flights_df2.join(airplanes_df, on='tailnum', how='inner')\n",
    "flights_planes_df.filter(flights_planes_df.model.isNull()).show()\n",
    "flights_planes_df.show()"
   ]
  },
  {
   "cell_type": "markdown",
   "id": "7bd06322",
   "metadata": {},
   "source": [
    "# Usando SQL\n",
    "\n",
    "Praticamente todas as operações que vimos acima podem ser descritas diretamente em SQL e aplicadas em um Dataframe. Spark possui um método `sql()` que recebe uma string com sintaxe SQL e a processa de maneira distribuída. O resultado é idêntico ao que fizemos programaticamente. No fim, vai de gosto e familiaridade do programador para escolher qual opção prefere.\n",
    "\n",
    "Antes de realizarmos consultas SQL, é importante que criemos uma visualização temporária SQL com `createOrReplaceTempView()`. Vamos fazer alguns exemplos:"
   ]
  },
  {
   "cell_type": "code",
   "execution_count": 14,
   "id": "bf2aac9e",
   "metadata": {},
   "outputs": [
    {
     "name": "stdout",
     "output_type": "stream",
     "text": [
      "Distancia media de todos voos\n",
      "+-------------+\n",
      "|avg(distance)|\n",
      "+-------------+\n",
      "|    1208.1516|\n",
      "+-------------+\n",
      "\n",
      "Tempo medio de cada itinerario\n",
      "+------+----+------------------+\n",
      "|origin|dest|      avg_air_time|\n",
      "+------+----+------------------+\n",
      "|   SEA| RNO|            74.375|\n",
      "|   SEA| DTW|219.81632653061226|\n",
      "|   SEA| CLE|             233.5|\n",
      "|   SEA| LAX| 126.8641425389755|\n",
      "|   PDX| SEA|34.927536231884055|\n",
      "|   SEA| BLI|              22.8|\n",
      "|   PDX| IAH|213.83928571428572|\n",
      "|   PDX| PHX|130.21153846153845|\n",
      "|   SEA| SLC| 88.98222222222222|\n",
      "|   SEA| SBA|118.30434782608695|\n",
      "|   SEA| BWI| 269.8965517241379|\n",
      "|   PDX| IAD| 267.8695652173913|\n",
      "|   PDX| SFO| 85.42809364548495|\n",
      "|   SEA| KOA|           347.075|\n",
      "|   PDX| MCI|174.46666666666667|\n",
      "|   SEA| SJC|103.13615023474179|\n",
      "|   SEA| ABQ|142.74418604651163|\n",
      "|   SEA| SAT|208.44444444444446|\n",
      "|   PDX| ONT| 111.6842105263158|\n",
      "|   SEA| LAS|118.46978021978022|\n",
      "+------+----+------------------+\n",
      "only showing top 20 rows\n",
      "\n",
      "Apenas itinerários com tempo medio em dezembro\n",
      "+------+----+------------------+\n",
      "|origin|dest|      avg_air_time|\n",
      "+------+----+------------------+\n",
      "|   SEA| DTW|222.27272727272728|\n",
      "|   SEA| LAX|125.63636363636364|\n",
      "|   PDX| SEA|              31.0|\n",
      "|   PDX| IAH|             220.0|\n",
      "|   PDX| PHX|130.76190476190476|\n",
      "|   SEA| SLC| 90.08333333333333|\n",
      "|   SEA| SBA|             112.0|\n",
      "|   SEA| BWI|             264.0|\n",
      "|   PDX| IAD|             258.0|\n",
      "|   PDX| SFO| 87.04347826086956|\n",
      "|   SEA| KOA|             354.5|\n",
      "|   PDX| MCI|             170.0|\n",
      "|   SEA| SJC|             104.9|\n",
      "|   SEA| ABQ|             144.5|\n",
      "|   PDX| ONT|             110.2|\n",
      "|   SEA| LAS|117.96551724137932|\n",
      "|   SEA| GEG|              40.0|\n",
      "|   SEA| ANC|196.43333333333334|\n",
      "|   PDX| DEN|             120.0|\n",
      "|   PDX| JFK|279.57142857142856|\n",
      "+------+----+------------------+\n",
      "only showing top 20 rows\n",
      "\n"
     ]
    }
   ],
   "source": [
    "flights_df2.createOrReplaceTempView('flights')\n",
    "\n",
    "print('Distancia media de todos voos')\n",
    "spark.sql('SELECT avg(distance) FROM flights').show()\n",
    "\n",
    "print('Tempo medio de cada itinerario')\n",
    "spark.sql('SELECT origin, dest, avg(air_time) as avg_air_time FROM flights GROUP BY origin, dest').show()\n",
    "\n",
    "print('Apenas itinerários com tempo medio em dezembro')\n",
    "spark.sql('SELECT origin, dest, avg(air_time) as avg_air_time FROM flights WHERE month = 12 GROUP BY origin, dest').show()"
   ]
  },
  {
   "cell_type": "markdown",
   "id": "22c884b1",
   "metadata": {},
   "source": [
    "# Usando funções com pyspark.sql.functions\n",
    "\n",
    "O pacote `pyspark.sql.functions` fornece uma série de implementações de funções padrões para a manipulação de Dataframes, Datasets e consultas SQL. Podemos utilizar neste pacote, dentre muitas outras, funções aritméticas e de transformação de `Strings` e `Arrays`. Vamos importar o pacote e usá-lo da seguinte forma:\n",
    "\n",
    "`import pyspark.sql.functions as F`\n",
    "\n",
    "\n",
    "### Transformações de String\n",
    "\n",
    "Vamos começar com algumas funções de manipulação de String:\n",
    "\n",
    "- `upper()` e `lower()`: transformam o texto inteiro em caixa alta ou baixa, respectivamente.\n",
    "\n",
    "- `split()`: quebram um String, transformando ele em uma lista dentro de uma célula de um Dataframe (coluna se torna do tipo `ArrayType()`.\n",
    "\n",
    "- `contains()`: checa se uma célula contém uma substring\n",
    "\n",
    "- `cast()`: converte um String em outro tipo"
   ]
  },
  {
   "cell_type": "code",
   "execution_count": 15,
   "id": "fa60b888",
   "metadata": {},
   "outputs": [
    {
     "name": "stdout",
     "output_type": "stream",
     "text": [
      "Caixa alta e caixa baixa\n",
      "+----------+--------------------+----------+\n",
      "|        _1|                  _2|     Chave|\n",
      "+----------+--------------------+----------+\n",
      "|  hamlet@0|              HAMLET|  HAMLET@0|\n",
      "|  hamlet@8|                    |  HAMLET@8|\n",
      "|  hamlet@9|                    |  HAMLET@9|\n",
      "| hamlet@10|   DRAMATIS PERSONAE| HAMLET@10|\n",
      "| hamlet@29|                    | HAMLET@29|\n",
      "| hamlet@30|                    | HAMLET@30|\n",
      "| hamlet@31|CLAUDIUS king of ...| HAMLET@31|\n",
      "| hamlet@74|                    | HAMLET@74|\n",
      "| hamlet@75|HAMLET son to the...| HAMLET@75|\n",
      "|hamlet@131|                    |HAMLET@131|\n",
      "+----------+--------------------+----------+\n",
      "only showing top 10 rows\n",
      "\n",
      "+----------+--------------------+--------------------+\n",
      "|        _1|                  _2|               Valor|\n",
      "+----------+--------------------+--------------------+\n",
      "|  hamlet@0|              HAMLET|              hamlet|\n",
      "|  hamlet@8|                    |                    |\n",
      "|  hamlet@9|                    |                    |\n",
      "| hamlet@10|   DRAMATIS PERSONAE|   dramatis personae|\n",
      "| hamlet@29|                    |                    |\n",
      "| hamlet@30|                    |                    |\n",
      "| hamlet@31|CLAUDIUS king of ...|claudius king of ...|\n",
      "| hamlet@74|                    |                    |\n",
      "| hamlet@75|HAMLET son to the...|hamlet son to the...|\n",
      "|hamlet@131|                    |                    |\n",
      "+----------+--------------------+--------------------+\n",
      "only showing top 10 rows\n",
      "\n",
      "Quebrando texto em tokens\n",
      "+----------+--------------------+--------------------+\n",
      "|        _1|                  _2|              Splits|\n",
      "+----------+--------------------+--------------------+\n",
      "|  hamlet@0|              HAMLET|            [HAMLET]|\n",
      "|  hamlet@8|                    |                  []|\n",
      "|  hamlet@9|                    |                  []|\n",
      "| hamlet@10|   DRAMATIS PERSONAE|[DRAMATIS, PERSONAE]|\n",
      "| hamlet@29|                    |                  []|\n",
      "| hamlet@30|                    |                  []|\n",
      "| hamlet@31|CLAUDIUS king of ...|[CLAUDIUS, king, ...|\n",
      "| hamlet@74|                    |                  []|\n",
      "| hamlet@75|HAMLET son to the...|[HAMLET, son, to,...|\n",
      "|hamlet@131|                    |                  []|\n",
      "+----------+--------------------+--------------------+\n",
      "only showing top 10 rows\n",
      "\n",
      "Filtrando por KING\n",
      "+------------+--------------------+\n",
      "|          _1|                  _2|\n",
      "+------------+--------------------+\n",
      "|   hamlet@31|CLAUDIUS king of ...|\n",
      "| hamlet@9205|[Enter KING CLAUD...|\n",
      "| hamlet@9319|KING CLAUDIUS Tho...|\n",
      "|hamlet@11141|KING CLAUDIUS We ...|\n",
      "|hamlet@11924|KING CLAUDIUS Hav...|\n",
      "|hamlet@12169|KING CLAUDIUS Tak...|\n",
      "|hamlet@12374|KING CLAUDIUS How...|\n",
      "|hamlet@13347|KING CLAUDIUS 'Ti...|\n",
      "|hamlet@14869|KING CLAUDIUS Why...|\n",
      "|hamlet@46699|[Enter KING CLAUD...|\n",
      "|hamlet@46783|KING CLAUDIUS Wel...|\n",
      "|hamlet@48245|KING CLAUDIUS Tha...|\n",
      "|hamlet@48765|KING CLAUDIUS Tho...|\n",
      "|hamlet@49120|KING CLAUDIUS O, ...|\n",
      "|hamlet@49283|KING CLAUDIUS Thy...|\n",
      "|hamlet@49560|KING CLAUDIUS Wel...|\n",
      "|hamlet@50654|KING CLAUDIUS It ...|\n",
      "|hamlet@52845|KING CLAUDIUS But...|\n",
      "|hamlet@52955|KING CLAUDIUS As ...|\n",
      "|hamlet@53935|KING CLAUDIUS Do ...|\n",
      "+------------+--------------------+\n",
      "only showing top 20 rows\n",
      "\n"
     ]
    }
   ],
   "source": [
    "import pyspark.sql.functions as F\n",
    "\n",
    "print('Caixa alta e caixa baixa')\n",
    "text_df.withColumn('Chave', F.upper(text_df._1)).show(10)\n",
    "text_df.withColumn('Valor', F.lower(text_df['_2'])).show(10)\n",
    "\n",
    "print('Quebrando texto em tokens')\n",
    "splits_df = text_df.withColumn('Splits', F.split(text_df._2, ' '))\n",
    "splits_df.show(10)\n",
    "\n",
    "print('Filtrando por KING')\n",
    "text_df.filter(text_df._2.contains('KING')).show()\n"
   ]
  },
  {
   "cell_type": "markdown",
   "id": "9cbb238b",
   "metadata": {},
   "source": [
    "### Funções com ArrayType()\n",
    "\n",
    "Dataframes conseguem guardar `Arrays` em suas células, mas não conseguem operar diretamente com elas. A manipulação deve ser feita através de funções padrões em `pyspark.sql.functions` ou de UDFs criadas por usuários (veremos elas logo).\n",
    "\n",
    "- `size()`: retorna o tamanho do Array em uma célula.\n",
    "\n",
    "- `getItem()`: retorna um elemento de um Array em uma célula."
   ]
  },
  {
   "cell_type": "code",
   "execution_count": 16,
   "id": "4bff2bc1",
   "metadata": {},
   "outputs": [
    {
     "name": "stdout",
     "output_type": "stream",
     "text": [
      "Descobrindo o numero de elementos em cada linha:\n",
      "+----------+--------------------+--------------------+----------+\n",
      "|        _1|                  _2|              Splits|Num_tokens|\n",
      "+----------+--------------------+--------------------+----------+\n",
      "|  hamlet@0|              HAMLET|            [HAMLET]|         1|\n",
      "|  hamlet@8|                    |                  []|         1|\n",
      "|  hamlet@9|                    |                  []|         1|\n",
      "| hamlet@10|   DRAMATIS PERSONAE|[DRAMATIS, PERSONAE]|         2|\n",
      "| hamlet@29|                    |                  []|         1|\n",
      "| hamlet@30|                    |                  []|         1|\n",
      "| hamlet@31|CLAUDIUS king of ...|[CLAUDIUS, king, ...|         6|\n",
      "| hamlet@74|                    |                  []|         1|\n",
      "| hamlet@75|HAMLET son to the...|[HAMLET, son, to,...|        11|\n",
      "|hamlet@131|                    |                  []|         1|\n",
      "+----------+--------------------+--------------------+----------+\n",
      "only showing top 10 rows\n",
      "\n",
      "Recuperando o primeiro token de cada linha\n",
      "+----------+--------------------+--------------------+----------+---------+\n",
      "|        _1|                  _2|              Splits|Num_tokens| Primeiro|\n",
      "+----------+--------------------+--------------------+----------+---------+\n",
      "|  hamlet@0|              HAMLET|            [HAMLET]|         1|   HAMLET|\n",
      "|  hamlet@8|                    |                  []|         1|         |\n",
      "|  hamlet@9|                    |                  []|         1|         |\n",
      "| hamlet@10|   DRAMATIS PERSONAE|[DRAMATIS, PERSONAE]|         2| DRAMATIS|\n",
      "| hamlet@29|                    |                  []|         1|         |\n",
      "| hamlet@30|                    |                  []|         1|         |\n",
      "| hamlet@31|CLAUDIUS king of ...|[CLAUDIUS, king, ...|         6| CLAUDIUS|\n",
      "| hamlet@74|                    |                  []|         1|         |\n",
      "| hamlet@75|HAMLET son to the...|[HAMLET, son, to,...|        11|   HAMLET|\n",
      "|hamlet@131|                    |                  []|         1|         |\n",
      "|hamlet@132|POLONIUS lord cha...|[POLONIUS, lord, ...|         5| POLONIUS|\n",
      "|hamlet@176|                    |                  []|         1|         |\n",
      "|hamlet@177|HORATIO friend to...|[HORATIO, friend,...|         4|  HORATIO|\n",
      "|hamlet@203|                    |                  []|         1|         |\n",
      "|hamlet@204|LAERTES son to Po...|[LAERTES, son, to...|         4|  LAERTES|\n",
      "|hamlet@229|                    |                  []|         1|         |\n",
      "|hamlet@230|LUCIANUS nephew t...|[LUCIANUS, nephew...|         5| LUCIANUS|\n",
      "|hamlet@259|                    |                  []|         1|         |\n",
      "|hamlet@260|                    |                  []|         1|         |\n",
      "|hamlet@261|         VOLTIMAND ||      [VOLTIMAND, |]|         2|VOLTIMAND|\n",
      "+----------+--------------------+--------------------+----------+---------+\n",
      "only showing top 20 rows\n",
      "\n"
     ]
    }
   ],
   "source": [
    "print('Descobrindo o numero de elementos em cada linha:')\n",
    "splits_df = splits_df.withColumn('Num_tokens', F.size(splits_df.Splits))\n",
    "splits_df.show(10)\n",
    "\n",
    "print('Recuperando o primeiro token de cada linha')\n",
    "splits_df = splits_df.withColumn('Primeiro', splits_df.Splits.getItem(0))\n",
    "splits_df.show()"
   ]
  },
  {
   "cell_type": "markdown",
   "id": "02a972b1",
   "metadata": {},
   "source": [
    "### Condicionais\n",
    "\n",
    "O pacote `pyspark.sql.functions` fornece também as funções condicionais `when()` e `otherwise()`. \n",
    "\n",
    "- `when()`: Age como uma cláusula `if`.\n",
    "- `otherwise()`: Corresponde ao `else`."
   ]
  },
  {
   "cell_type": "code",
   "execution_count": 17,
   "id": "41d3a311",
   "metadata": {},
   "outputs": [
    {
     "name": "stdout",
     "output_type": "stream",
     "text": [
      "Retornar colunas Split, Primeiro_token e criar uma nova verificando se há a palavra \"king\"\n",
      "+--------------------+---------+-------------+\n",
      "|              Splits| Primeiro|contains_king|\n",
      "+--------------------+---------+-------------+\n",
      "|            [HAMLET]|   HAMLET|         null|\n",
      "|                  []|         |         null|\n",
      "|                  []|         |         null|\n",
      "|[DRAMATIS, PERSONAE]| DRAMATIS|         null|\n",
      "|                  []|         |         null|\n",
      "|                  []|         |         null|\n",
      "|[CLAUDIUS, king, ...| CLAUDIUS|          Yes|\n",
      "|                  []|         |         null|\n",
      "|[HAMLET, son, to,...|   HAMLET|         null|\n",
      "|                  []|         |         null|\n",
      "|[POLONIUS, lord, ...| POLONIUS|         null|\n",
      "|                  []|         |         null|\n",
      "|[HORATIO, friend,...|  HORATIO|         null|\n",
      "|                  []|         |         null|\n",
      "|[LAERTES, son, to...|  LAERTES|         null|\n",
      "|                  []|         |         null|\n",
      "|[LUCIANUS, nephew...| LUCIANUS|         null|\n",
      "|                  []|         |         null|\n",
      "|                  []|         |         null|\n",
      "|      [VOLTIMAND, |]|VOLTIMAND|         null|\n",
      "+--------------------+---------+-------------+\n",
      "only showing top 20 rows\n",
      "\n",
      "Criar coluna dizendo se há \"Claudius\" (valor 1), \"Polonius\" (valor 2) ou outra pessoa (valor 0)\n",
      "+----------+--------------------+--------------------+----------+---------+---------+\n",
      "|        _1|                  _2|              Splits|Num_tokens| Primeiro|who_is_it|\n",
      "+----------+--------------------+--------------------+----------+---------+---------+\n",
      "|  hamlet@0|              HAMLET|            [HAMLET]|         1|   HAMLET|        0|\n",
      "|  hamlet@8|                    |                  []|         1|         |        0|\n",
      "|  hamlet@9|                    |                  []|         1|         |        0|\n",
      "| hamlet@10|   DRAMATIS PERSONAE|[DRAMATIS, PERSONAE]|         2| DRAMATIS|        0|\n",
      "| hamlet@29|                    |                  []|         1|         |        0|\n",
      "| hamlet@30|                    |                  []|         1|         |        0|\n",
      "| hamlet@31|CLAUDIUS king of ...|[CLAUDIUS, king, ...|         6| CLAUDIUS|        1|\n",
      "| hamlet@74|                    |                  []|         1|         |        0|\n",
      "| hamlet@75|HAMLET son to the...|[HAMLET, son, to,...|        11|   HAMLET|        0|\n",
      "|hamlet@131|                    |                  []|         1|         |        0|\n",
      "|hamlet@132|POLONIUS lord cha...|[POLONIUS, lord, ...|         5| POLONIUS|        2|\n",
      "|hamlet@176|                    |                  []|         1|         |        0|\n",
      "|hamlet@177|HORATIO friend to...|[HORATIO, friend,...|         4|  HORATIO|        0|\n",
      "|hamlet@203|                    |                  []|         1|         |        0|\n",
      "|hamlet@204|LAERTES son to Po...|[LAERTES, son, to...|         4|  LAERTES|        0|\n",
      "|hamlet@229|                    |                  []|         1|         |        0|\n",
      "|hamlet@230|LUCIANUS nephew t...|[LUCIANUS, nephew...|         5| LUCIANUS|        0|\n",
      "|hamlet@259|                    |                  []|         1|         |        0|\n",
      "|hamlet@260|                    |                  []|         1|         |        0|\n",
      "|hamlet@261|         VOLTIMAND ||      [VOLTIMAND, |]|         2|VOLTIMAND|        0|\n",
      "+----------+--------------------+--------------------+----------+---------+---------+\n",
      "only showing top 20 rows\n",
      "\n"
     ]
    }
   ],
   "source": [
    "print('Retornar colunas Split, Primeiro_token e criar uma nova verificando se há a palavra \"king\"')\n",
    "splits_df.select('Splits', 'Primeiro', F.when(splits_df._2.contains('KING'), 'Yes').alias('contains_king')).show()\n",
    "\n",
    "print('Criar coluna dizendo se há \"Claudius\" (valor 1), \"Polonius\" (valor 2) ou outra pessoa (valor 0)')\n",
    "splits_df.withColumn('who_is_it', F.when(splits_df._2.contains('CLAUDIUS'), 1) \\\n",
    "                                     .when(splits_df._2.contains('POLONIUS'), 2) \\\n",
    "                                     .otherwise(0)).show()"
   ]
  },
  {
   "cell_type": "markdown",
   "id": "cf94c566",
   "metadata": {},
   "source": [
    "### Funções definidas por usuários\n",
    "\n",
    "O pacote `pyspark.sql.functions` fornece também a possibilidade de criar funções que ele não tem implementado por padrão. Essas são chamadas de UDFs, ou _User-Defined Functions_, e têm o seguinte formato:\n",
    "\n",
    "`F.udf(funcão, tipo_de_retorno)`"
   ]
  },
  {
   "cell_type": "code",
   "execution_count": 18,
   "id": "19160890",
   "metadata": {},
   "outputs": [
    {
     "name": "stdout",
     "output_type": "stream",
     "text": [
      "Contar numero de menções \"hamlet\" na linha\n"
     ]
    },
    {
     "name": "stderr",
     "output_type": "stream",
     "text": [
      "\r",
      "[Stage 81:>                                                         (0 + 1) / 1]\r"
     ]
    },
    {
     "name": "stdout",
     "output_type": "stream",
     "text": [
      "+------------+--------------------+--------------------+----------+--------+-----------+\n",
      "|          _1|                  _2|              Splits|Num_tokens|Primeiro|num_hamlets|\n",
      "+------------+--------------------+--------------------+----------+--------+-----------+\n",
      "|    hamlet@0|              HAMLET|            [HAMLET]|         1|  HAMLET|          1|\n",
      "|   hamlet@75|HAMLET son to the...|[HAMLET, son, to,...|        11|  HAMLET|          1|\n",
      "| hamlet@1004|              HAMLET|            [HAMLET]|         1|  HAMLET|          1|\n",
      "| hamlet@9144|              HAMLET|            [HAMLET]|         1|  HAMLET|          1|\n",
      "| hamlet@9319|KING CLAUDIUS Tho...|[KING, CLAUDIUS, ...|        10|    KING|          1|\n",
      "|hamlet@12313|HAMLET [Aside]  A...|[HAMLET, [Aside],...|        12|  HAMLET|          1|\n",
      "|hamlet@12434|HAMLET Not so, my...|[HAMLET, Not, so,...|        12|  HAMLET|          1|\n",
      "|hamlet@12760|HAMLET Ay, madam,...|[HAMLET, Ay,, mad...|         6|  HAMLET|          1|\n",
      "|hamlet@12858|HAMLET Seems, mad...|[HAMLET, Seems,, ...|        10|  HAMLET|          1|\n",
      "|hamlet@14821|HAMLET I shall in...|[HAMLET, I, shall...|        10|  HAMLET|          1|\n",
      "|hamlet@14960|This gentle and u...|[This, gentle, an...|         7|    This|          1|\n",
      "|hamlet@15261|HAMLET O, that th...|[HAMLET, O,, that...|        10|  HAMLET|          1|\n",
      "|hamlet@16738|HAMLET I am glad ...|[HAMLET, I, am, g...|         8|  HAMLET|          1|\n",
      "|hamlet@16863|HAMLET Sir, my go...|[HAMLET, Sir,, my...|        11|  HAMLET|          1|\n",
      "|hamlet@17006|HAMLET I am very ...|[HAMLET, I, am, v...|        11|  HAMLET|          1|\n",
      "|hamlet@17149|HAMLET I would no...|[HAMLET, I, would...|         9|  HAMLET|          1|\n",
      "|hamlet@17459|HAMLET I pray the...|[HAMLET, I, pray,...|         9|  HAMLET|          1|\n",
      "|hamlet@17605|HAMLET Thrift, th...|[HAMLET, Thrift,,...|         8|  HAMLET|          1|\n",
      "|hamlet@17854|HAMLET           ...|[HAMLET, , , , , ...|        24|  HAMLET|          1|\n",
      "|hamlet@17954|HAMLET He was a m...|[HAMLET, He, was,...|        11|  HAMLET|          1|\n",
      "+------------+--------------------+--------------------+----------+--------+-----------+\n",
      "only showing top 20 rows\n",
      "\n"
     ]
    },
    {
     "name": "stderr",
     "output_type": "stream",
     "text": [
      "\r",
      "                                                                                \r"
     ]
    }
   ],
   "source": [
    "print('Contar numero de menções \"hamlet\" na linha')\n",
    "\n",
    "def count_hamlet(list_tokens):\n",
    "    count = 0\n",
    "    for token in list_tokens:\n",
    "        if token.lower() == 'hamlet':\n",
    "            count += 1\n",
    "    return count\n",
    "            \n",
    "count_hamlet_udf = F.udf(count_hamlet, types.IntegerType())\n",
    "splits_df.withColumn('num_hamlets', count_hamlet_udf(splits_df.Splits)).filter('num_hamlets > 0').show()"
   ]
  },
  {
   "cell_type": "markdown",
   "id": "b35dfaef",
   "metadata": {},
   "source": [
    "# Exercício: modificando `text_df`\n",
    "\n",
    "Vamos transformar o nosso Dataframe usado nos exemplos acima. Faça os seguintes passos:\n",
    "- Remova as linhas onde o campo chave esteja em branco \n",
    "- Crie uma UDF para remover tudo que houver antes do @ na coluna chave e salve em uma coluna chamada 'id_linha'\n",
    "- Crie uma coluna com o texto em caixa baixa e a nomeie de 'texto'\n",
    "- Remova as colunas de chave e valor antigas\n",
    "- Crie uma nova coluna com os tokens de 'texto'. A nomeie de 'tokens'\n",
    "- Crie uma coluna com a quantidade de tokens. A nomeie de 'num_tokens'\n",
    "- Remova as linhas em branco e que contém apenas '|'\n",
    "- Extraia o primeiro e o ultimo token de cada linha, e os guarde em colunas nomeadas por 'primeiro' e 'ultimo'\n",
    "- Filtre o dataframe para manter somente linhas que não mencionam 'hamlet' (utilize o sinal ~ como negação)"
   ]
  },
  {
   "cell_type": "code",
   "execution_count": 27,
   "id": "6ca996cb",
   "metadata": {},
   "outputs": [
    {
     "name": "stdout",
     "output_type": "stream",
     "text": [
      "+--------+--------------------+--------------------+----------+------------+------------+\n",
      "|id_linha|               texto|              tokens|num_tokens|    primeiro|      ultimo|\n",
      "+--------+--------------------+--------------------+----------+------------+------------+\n",
      "|      10|   dramatis personae|[dramatis, personae]|         2|    dramatis|    personae|\n",
      "|      31|claudius king of ...|[claudius, king, ...|         6|    claudius|  claudius:)|\n",
      "|     132|polonius lord cha...|[polonius, lord, ...|         5|    polonius|  polonius:)|\n",
      "|     204|laertes son to po...|[laertes, son, to...|         4|     laertes|   polonius.|\n",
      "|     230|lucianus nephew t...|[lucianus, nephew...|         5|    lucianus|       king.|\n",
      "|     261|         voltimand ||      [voltimand, |]|         2|   voltimand|           ||\n",
      "|     276|         cornelius ||      [cornelius, |]|         2|   cornelius|           ||\n",
      "|     291|rosencrantz |  co...|[rosencrantz, |, ...|         4| rosencrantz|  courtiers.|\n",
      "|     320|      guildenstern ||   [guildenstern, |]|         2|guildenstern|           ||\n",
      "|     338|             osric ||          [osric, |]|         2|       osric|           ||\n",
      "|     348|a gentleman, (gen...|[a, gentleman,, (...|         3|           a|(gentlemen:)|\n",
      "|     376|a priest. (first ...|[a, priest., (fir...|         4|           a|    priest:)|\n",
      "|     405|         marcellus ||      [marcellus, |]|         2|   marcellus|           ||\n",
      "|     417|        |  officers.|    [|, , officers.]|         3|           ||   officers.|\n",
      "|     431|          bernardo ||       [bernardo, |]|         2|    bernardo|           ||\n",
      "|     444|francisco a soldier.|[francisco, a, so...|         3|   francisco|    soldier.|\n",
      "|     466|reynaldo servant ...|[reynaldo, servan...|         4|    reynaldo|   polonius.|\n",
      "|     496|            players.|          [players.]|         1|    players.|    players.|\n",
      "|     506|     (first player:)|  [(first, player:)]|         2|      (first|    player:)|\n",
      "|     523|      (player king:)|   [(player, king:)]|         2|     (player|      king:)|\n",
      "+--------+--------------------+--------------------+----------+------------+------------+\n",
      "only showing top 20 rows\n",
      "\n"
     ]
    },
    {
     "name": "stderr",
     "output_type": "stream",
     "text": [
      "/opt/spark/python/pyspark/sql/column.py:322: FutureWarning: A column as 'key' in getItem is deprecated as of Spark 3.0, and will not be supported in the future release. Use `column[key]` or `column.key` syntax instead.\n",
      "  warnings.warn(\n"
     ]
    }
   ],
   "source": [
    "def clean_key(key):\n",
    "    try:\n",
    "        rest, num = key.split('@')\n",
    "        return num\n",
    "    except:\n",
    "        return ''\n",
    "\n",
    "clean_key_udf = F.udf(clean_key, types.StringType())\n",
    "\n",
    "\n",
    "text_df = text_df.filter(text_df._1 != '') \\\n",
    "                        .withColumn('id_linha', clean_key_udf(text_df._1)) \\\n",
    "                        .withColumn('texto', F.lower('_2')) \\\n",
    "                        .drop(*['_1','_2']) \n",
    "text_df = text_df.withColumn('tokens', F.split(text_df.texto, ' ')) \\\n",
    "                        .withColumn('num_tokens', F.size('tokens')) \\\n",
    "                        .filter((text_df.texto != '') & (text_df.texto != '|')) \n",
    "text_df = text_df.withColumn('primeiro', text_df.tokens.getItem(0)) \\\n",
    "                        .withColumn('ultimo', text_df.tokens.getItem(F.size(text_df.tokens) -1)) \\\n",
    "                        .filter(~ text_df.texto.contains('hamlet'))\n",
    "text_df.show()"
   ]
  },
  {
   "cell_type": "markdown",
   "id": "951d4406",
   "metadata": {},
   "source": [
    "# Visualizando Dados graficamente\n",
    "\n",
    "Infelizmente, Spark não suporta visualização de dados nativamente. Para visualizá-los, podemos:\n",
    "- Utilizar bibliotecas de terceiros, como a `pyspark_dist_explore` (não recomendado, última versão em 2019), ou\n",
    "- Retirar uma amostra dos dados e transformá-la em Pandas Dataframes, e aproveitar as bibliotecas `Matplotlib` ou `Seaborn`"
   ]
  },
  {
   "cell_type": "code",
   "execution_count": 34,
   "id": "f60221fe",
   "metadata": {},
   "outputs": [
    {
     "name": "stdout",
     "output_type": "stream",
     "text": [
      "root\n",
      " |-- id_companhia: integer (nullable = true)\n",
      " |-- num_voos: integer (nullable = true)\n",
      " |-- origem: string (nullable = true)\n",
      " |-- destino: string (nullable = true)\n",
      " |-- min_atraso_partida: double (nullable = true)\n",
      " |-- min_atraso_chegada: double (nullable = true)\n",
      " |-- distancia: double (nullable = true)\n",
      " |-- duracao_horas: double (nullable = true)\n",
      "\n"
     ]
    },
    {
     "data": {
      "text/plain": [
       "<seaborn.axisgrid.FacetGrid at 0x7f780e9c40d0>"
      ]
     },
     "execution_count": 34,
     "metadata": {},
     "output_type": "execute_result"
    },
    {
     "data": {
      "image/png": "[encoded data removed]",
      "text/plain": [
       "<Figure size 432x288 with 2 Axes>"
      ]
     },
     "metadata": {
      "needs_background": "light"
     },
     "output_type": "display_data"
    },
    {
     "data": {
      "image/png": "[encoded data removed]",
      "text/plain": [
       "<Figure size 360x360 with 1 Axes>"
      ]
     },
     "metadata": {
      "needs_background": "light"
     },
     "output_type": "display_data"
    },
    {
     "data": {
      "image/png": "[encoded data removed]",
      "text/plain": [
       "<Figure size 360x360 with 1 Axes>"
      ]
     },
     "metadata": {
      "needs_background": "light"
     },
     "output_type": "display_data"
    }
   ],
   "source": [
    "import pandas as pd\n",
    "import matplotlib.pyplot as plt\n",
    "import seaborn as sns\n",
    "\n",
    "flight_sample_df = flight_schema_df.sample(withReplacement=False, fraction=0.6, seed=10)\n",
    "flight_sample_pd = flight_sample_df.toPandas()\n",
    "flight_sample_df.printSchema()\n",
    "\n",
    "flight_sample_pd.hist(bins=100, column=['distancia','duracao_horas'])\n",
    "sns.lmplot(x='distancia', y='duracao_horas', data=flight_sample_pd)\n",
    "sns.lmplot(x='min_atraso_partida', y='min_atraso_chegada', data=flight_sample_pd)"
   ]
  },
  {
   "cell_type": "markdown",
   "id": "00677b93",
   "metadata": {},
   "source": [
    "# Particionamento e otimização\n",
    "\n",
    "Veremos algumas funções aqui que lidam diretamente com configurações relacionadas com o formato distribuído dos Dataframes em Spark.\n",
    "\n",
    "\n",
    "### Criando IDs\n",
    "\n",
    "Em um ambiente distribuído, criar IDs seguindo abordagens como contadores e geradores aleatórios não são ideais, dado que múltiplas partições irão lidar com múltiplos _pedaços_ dos dados. Utilizando a função `monotonically_increasing_id()` do pacote `pyspark.sql.functions` possibilita ao Spark criar IDs de forma distribuída e eficiente."
   ]
  },
  {
   "cell_type": "code",
   "execution_count": 36,
   "id": "84485d3f",
   "metadata": {},
   "outputs": [
    {
     "name": "stdout",
     "output_type": "stream",
     "text": [
      "+--------------------+--------------------+----------+------------+------------+---+\n",
      "|               texto|              tokens|num_tokens|    primeiro|      ultimo|ids|\n",
      "+--------------------+--------------------+----------+------------+------------+---+\n",
      "|   dramatis personae|[dramatis, personae]|         2|    dramatis|    personae|  0|\n",
      "|claudius king of ...|[claudius, king, ...|         6|    claudius|  claudius:)|  1|\n",
      "|polonius lord cha...|[polonius, lord, ...|         5|    polonius|  polonius:)|  2|\n",
      "|laertes son to po...|[laertes, son, to...|         4|     laertes|   polonius.|  3|\n",
      "|lucianus nephew t...|[lucianus, nephew...|         5|    lucianus|       king.|  4|\n",
      "|         voltimand ||      [voltimand, |]|         2|   voltimand|           ||  5|\n",
      "|         cornelius ||      [cornelius, |]|         2|   cornelius|           ||  6|\n",
      "|rosencrantz |  co...|[rosencrantz, |, ...|         4| rosencrantz|  courtiers.|  7|\n",
      "|      guildenstern ||   [guildenstern, |]|         2|guildenstern|           ||  8|\n",
      "|             osric ||          [osric, |]|         2|       osric|           ||  9|\n",
      "|a gentleman, (gen...|[a, gentleman,, (...|         3|           a|(gentlemen:)| 10|\n",
      "|a priest. (first ...|[a, priest., (fir...|         4|           a|    priest:)| 11|\n",
      "|         marcellus ||      [marcellus, |]|         2|   marcellus|           || 12|\n",
      "|        |  officers.|    [|, , officers.]|         3|           ||   officers.| 13|\n",
      "|          bernardo ||       [bernardo, |]|         2|    bernardo|           || 14|\n",
      "|francisco a soldier.|[francisco, a, so...|         3|   francisco|    soldier.| 15|\n",
      "|reynaldo servant ...|[reynaldo, servan...|         4|    reynaldo|   polonius.| 16|\n",
      "|            players.|          [players.]|         1|    players.|    players.| 17|\n",
      "|     (first player:)|  [(first, player:)]|         2|      (first|    player:)| 18|\n",
      "|      (player king:)|   [(player, king:)]|         2|     (player|      king:)| 19|\n",
      "+--------------------+--------------------+----------+------------+------------+---+\n",
      "only showing top 20 rows\n",
      "\n"
     ]
    }
   ],
   "source": [
    "text_df.withColumn('ids', F.monotonically_increasing_id()).drop('id_linha').show()"
   ]
  },
  {
   "cell_type": "markdown",
   "id": "6afb1c0d",
   "metadata": {},
   "source": [
    "### Manipulando partições\n",
    "\n",
    "Muitas das vezes precisamos manipular em quantas partições dividimos nossos dados, para aumentar eficiência. Para manipular partições usamos as seguintes funções:\n",
    "\n",
    "- `rdd.getNumPartitions()`: recupera a quantidade de partições seu RDD ou Dataframe está alocando.\n",
    "\n",
    "- `repartition()`: modifica a quantidade de partições que seu RDD ou Dataframe está alocando.\n",
    "\n",
    "- `coalesce()`: reduz a quantidade de partições (mais eficiente que `repartition()`."
   ]
  },
  {
   "cell_type": "code",
   "execution_count": 38,
   "id": "a379de9a",
   "metadata": {},
   "outputs": [
    {
     "name": "stdout",
     "output_type": "stream",
     "text": [
      "2\n"
     ]
    },
    {
     "name": "stderr",
     "output_type": "stream",
     "text": [
      "\r",
      "[Stage 110:>                                                        (0 + 2) / 2]\r"
     ]
    },
    {
     "name": "stdout",
     "output_type": "stream",
     "text": [
      "4\n",
      "3\n"
     ]
    },
    {
     "name": "stderr",
     "output_type": "stream",
     "text": [
      "\r",
      "[Stage 111:>                                                        (0 + 2) / 2]\r"
     ]
    }
   ],
   "source": [
    "print(text_df.rdd.getNumPartitions())\n",
    "\n",
    "text_df = text_df.repartition(4)\n",
    "print(text_df.rdd.getNumPartitions())\n",
    "\n",
    "text_df = text_df.coalesce(3)\n",
    "print(text_df.rdd.getNumPartitions())"
   ]
  },
  {
   "cell_type": "markdown",
   "id": "991a78f9",
   "metadata": {},
   "source": [
    "### Caching\n",
    "\n",
    "_Caching_ é a operação de guardar Dataframes na memória ou em disco. Essa operação pode ajudar a melhorar o desempenho em transformações tardias e reduzir a quantidade de recursos gastos. **Cuidado:** bases de dados muito grandes podem não caber na memória do cluster, e _swap_ com o disco pode ser custoso.\n",
    "\n",
    "Para guardar em cache seu Dataframe, basta invocar a função `cache()`. Para tirá-lo do cache, utilize a função `unpersist()`."
   ]
  },
  {
   "cell_type": "code",
   "execution_count": 41,
   "id": "63dfc421",
   "metadata": {},
   "outputs": [
    {
     "name": "stdout",
     "output_type": "stream",
     "text": [
      "Contando 476881 em 0.6213679313659668\n",
      "Contando 476881 em 0.047644853591918945\n",
      "+------------+--------+------+-------+------------------+------------------+---------+-----------------+\n",
      "|id_companhia|num_voos|origem|destino|min_atraso_partida|min_atraso_chegada|distancia|    duracao_horas|\n",
      "+------------+--------+------+-------+------------------+------------------+---------+-----------------+\n",
      "|       19805|       1|   JFK|    LAX|              -6.0|               2.0|   2475.0|5.916666666666667|\n",
      "|       19805|       2|   LAX|    JFK|              14.0|             -29.0|   2475.0|4.483333333333333|\n",
      "+------------+--------+------+-------+------------------+------------------+---------+-----------------+\n",
      "only showing top 2 rows\n",
      "\n"
     ]
    }
   ],
   "source": [
    "flight_schema_df = flight_schema_df.cache()\n",
    "\n",
    "start_time = time.time()\n",
    "print(f'Contando {flight_schema_df.count()} em {time.time() - start_time}')\n",
    "start_time = time.time()\n",
    "print(f'Contando {flight_schema_df.count()} em {time.time() - start_time}')\n",
    "\n",
    "flight_schema_df.unpersist().show(2)"
   ]
  },
  {
   "cell_type": "markdown",
   "id": "b4d953ed",
   "metadata": {},
   "source": [
    "# Exemplo prático: pipeline de dados\n",
    "\n",
    "Vamos fazer uma análise um pouco mais detalhada de um dataset. Vamos explorar o _\"2017 St Paul MN Real Estate Dataset\"_ e iremos tentar limpar e transformar ele para que seja utilizável por algum algoritmo de aprendizado de máquina para prever o **preço de venda** de um imóvel. Começaremos importando ele e checando seu Schema."
   ]
  },
  {
   "cell_type": "code",
   "execution_count": 44,
   "id": "7bf5f999",
   "metadata": {},
   "outputs": [
    {
     "name": "stdout",
     "output_type": "stream",
     "text": [
      "root\n",
      " |-- No: integer (nullable = true)\n",
      " |-- MLSID: string (nullable = true)\n",
      " |-- StreetNumberNumeric: integer (nullable = true)\n",
      " |-- streetaddress: string (nullable = true)\n",
      " |-- STREETNAME: string (nullable = true)\n",
      " |-- PostalCode: integer (nullable = true)\n",
      " |-- StateOrProvince: string (nullable = true)\n",
      " |-- City: string (nullable = true)\n",
      " |-- SalesClosePrice: integer (nullable = true)\n",
      " |-- LISTDATE: string (nullable = true)\n",
      " |-- LISTPRICE: integer (nullable = true)\n",
      " |-- LISTTYPE: string (nullable = true)\n",
      " |-- OriginalListPrice: integer (nullable = true)\n",
      " |-- PricePerTSFT: double (nullable = true)\n",
      " |-- FOUNDATIONSIZE: integer (nullable = true)\n",
      " |-- FENCE: string (nullable = true)\n",
      " |-- MapLetter: string (nullable = true)\n",
      " |-- LotSizeDimensions: string (nullable = true)\n",
      " |-- SchoolDistrictNumber: string (nullable = true)\n",
      " |-- DAYSONMARKET: integer (nullable = true)\n",
      " |-- offmarketdate: string (nullable = true)\n",
      " |-- Fireplaces: integer (nullable = true)\n",
      " |-- RoomArea4: string (nullable = true)\n",
      " |-- roomtype: string (nullable = true)\n",
      " |-- ROOF: string (nullable = true)\n",
      " |-- RoomFloor4: string (nullable = true)\n",
      " |-- PotentialShortSale: string (nullable = true)\n",
      " |-- PoolDescription: string (nullable = true)\n",
      " |-- PDOM: integer (nullable = true)\n",
      " |-- GarageDescription: string (nullable = true)\n",
      " |-- SQFTABOVEGROUND: integer (nullable = true)\n",
      " |-- Taxes: integer (nullable = true)\n",
      " |-- RoomFloor1: string (nullable = true)\n",
      " |-- RoomArea1: string (nullable = true)\n",
      " |-- TAXWITHASSESSMENTS: double (nullable = true)\n",
      " |-- TAXYEAR: integer (nullable = true)\n",
      " |-- LivingArea: integer (nullable = true)\n",
      " |-- UNITNUMBER: string (nullable = true)\n",
      " |-- YEARBUILT: integer (nullable = true)\n",
      " |-- ZONING: string (nullable = true)\n",
      " |-- STYLE: string (nullable = true)\n",
      " |-- ACRES: double (nullable = true)\n",
      " |-- CoolingDescription: string (nullable = true)\n",
      " |-- APPLIANCES: string (nullable = true)\n",
      " |-- backonmarketdate: string (nullable = true)\n",
      " |-- ROOMFAMILYCHAR: string (nullable = true)\n",
      " |-- RoomArea3: string (nullable = true)\n",
      " |-- EXTERIOR: string (nullable = true)\n",
      " |-- RoomFloor3: string (nullable = true)\n",
      " |-- RoomFloor2: string (nullable = true)\n",
      " |-- RoomArea2: string (nullable = true)\n",
      " |-- DiningRoomDescription: string (nullable = true)\n",
      " |-- BASEMENT: string (nullable = true)\n",
      " |-- BathsFull: integer (nullable = true)\n",
      " |-- BathsHalf: integer (nullable = true)\n",
      " |-- BATHQUARTER: integer (nullable = true)\n",
      " |-- BATHSTHREEQUARTER: integer (nullable = true)\n",
      " |-- Class: string (nullable = true)\n",
      " |-- BATHSTOTAL: integer (nullable = true)\n",
      " |-- BATHDESC: string (nullable = true)\n",
      " |-- RoomArea5: string (nullable = true)\n",
      " |-- RoomFloor5: string (nullable = true)\n",
      " |-- RoomArea6: string (nullable = true)\n",
      " |-- RoomFloor6: string (nullable = true)\n",
      " |-- RoomArea7: string (nullable = true)\n",
      " |-- RoomFloor7: string (nullable = true)\n",
      " |-- RoomArea8: string (nullable = true)\n",
      " |-- RoomFloor8: string (nullable = true)\n",
      " |-- Bedrooms: integer (nullable = true)\n",
      " |-- SQFTBELOWGROUND: integer (nullable = true)\n",
      " |-- AssumableMortgage: string (nullable = true)\n",
      " |-- AssociationFee: integer (nullable = true)\n",
      " |-- ASSESSMENTPENDING: string (nullable = true)\n",
      " |-- AssessedValuation: double (nullable = true)\n",
      "\n"
     ]
    }
   ],
   "source": [
    "real_estate_df = spark.read.csv('file:///home/bigdata-vm/Desktop/BigDataAulasPUC/Datasets/2017_real_estate.csv', header=True, inferSchema=True)\n",
    "real_estate_df.printSchema()"
   ]
  },
  {
   "cell_type": "markdown",
   "id": "d2e42ed3",
   "metadata": {},
   "source": [
    "Olhando o Schema, conseguimos ver que a variável que gostaríamos de prever é a `SalesClosePrice`. Vamos ver sua distribuição."
   ]
  },
  {
   "cell_type": "code",
   "execution_count": 45,
   "id": "8c23fd89",
   "metadata": {},
   "outputs": [
    {
     "name": "stdout",
     "output_type": "stream",
     "text": [
      "+-------+------------------+\n",
      "|summary|   SalesClosePrice|\n",
      "+-------+------------------+\n",
      "|  count|              5000|\n",
      "|   mean|       262804.4668|\n",
      "| stddev|140559.82591998563|\n",
      "|    min|             48000|\n",
      "|    max|           1700000|\n",
      "+-------+------------------+\n",
      "\n"
     ]
    }
   ],
   "source": [
    "Y_df = real_estate_df.select('SalesClosePrice')\n",
    "Y_df.describe().show()"
   ]
  },
  {
   "cell_type": "markdown",
   "id": "9268fbe5",
   "metadata": {},
   "source": [
    "Precisamos escolher características (colunas) que possam ajudar o sistema a aprender o preço de cada venda. Vamos começar escolhendo variáveis que tenham uma boa correlação com `SalesClosePrice`. Correlação nem sempre implica em características relevantes, mas é um bom lugar pra começar."
   ]
  },
  {
   "cell_type": "code",
   "execution_count": 46,
   "id": "62391941",
   "metadata": {},
   "outputs": [
    {
     "name": "stdout",
     "output_type": "stream",
     "text": [
      "{'LISTPRICE': 0.9966856408762303, 'FOUNDATIONSIZE': 0.6152231695664402, 'DAYSONMARKET': 0.10140339667725148, 'Fireplaces': 0.5750292168651635, 'SQFTABOVEGROUND': 0.7901878498502957, 'LivingArea': 0.8162701823275637, 'YEARBUILT': 0.23475142032506482, 'ACRES': 0.22060612588935333, 'BATHSTOTAL': 0.6922501532803715, 'Bedrooms': 0.5348605700654713, 'SQFTBELOWGROUND': 0.45613267313494893}\n"
     ]
    }
   ],
   "source": [
    "list_columns = ['LISTPRICE', 'FOUNDATIONSIZE', 'DAYSONMARKET', 'Fireplaces', 'SQFTABOVEGROUND', 'LivingArea', 'YEARBUILT', 'ACRES', 'BATHSTOTAL', 'Bedrooms', 'SQFTBELOWGROUND']\n",
    "dict_corr = {}\n",
    "for column in list_columns:\n",
    "    dict_corr[column] = real_estate_df.corr('SalesClosePrice', column)\n",
    "print(dict_corr)"
   ]
  },
  {
   "cell_type": "markdown",
   "id": "03816441",
   "metadata": {},
   "source": [
    "Mas apenas a correlação não me convence. Quero analisar também estas colunas tentando traçar modelos lineares entre tais variáveis e `SalesClosePrice`. "
   ]
  },
  {
   "cell_type": "code",
   "execution_count": 47,
   "id": "c9496b18",
   "metadata": {},
   "outputs": [
    {
     "name": "stderr",
     "output_type": "stream",
     "text": [
      "2021-12-11 15:49:59,983 WARN util.package: Truncated the string representation of a plan since it was too large. This behavior can be adjusted by setting 'spark.sql.debug.maxToStringFields'.\n"
     ]
    },
    {
     "data": {
      "image/png": "[encoded data removed]",
      "text/plain": [
       "<Figure size 360x360 with 1 Axes>"
      ]
     },
     "metadata": {
      "needs_background": "light"
     },
     "output_type": "display_data"
    },
    {
     "data": {
      "image/png": "[encoded data removed]",
      "text/plain": [
       "<Figure size 360x360 with 1 Axes>"
      ]
     },
     "metadata": {
      "needs_background": "light"
     },
     "output_type": "display_data"
    },
    {
     "data": {
      "image/png": "[encoded data removed]",
      "text/plain": [
       "<Figure size 360x360 with 1 Axes>"
      ]
     },
     "metadata": {
      "needs_background": "light"
     },
     "output_type": "display_data"
    },
    {
     "data": {
      "image/png": "[encoded data removed]",
      "text/plain": [
       "<Figure size 360x360 with 1 Axes>"
      ]
     },
     "metadata": {
      "needs_background": "light"
     },
     "output_type": "display_data"
    },
    {
     "data": {
      "image/png": "[encoded data removed]",
      "text/plain": [
       "<Figure size 360x360 with 1 Axes>"
      ]
     },
     "metadata": {
      "needs_background": "light"
     },
     "output_type": "display_data"
    },
    {
     "data": {
      "image/png": "[encoded data removed]",
      "text/plain": [
       "<Figure size 360x360 with 1 Axes>"
      ]
     },
     "metadata": {
      "needs_background": "light"
     },
     "output_type": "display_data"
    },
    {
     "data": {
      "image/png": "[encoded data removed]",
      "text/plain": [
       "<Figure size 360x360 with 1 Axes>"
      ]
     },
     "metadata": {
      "needs_background": "light"
     },
     "output_type": "display_data"
    },
    {
     "data": {
      "image/png": "[encoded data removed]",
      "text/plain": [
       "<Figure size 360x360 with 1 Axes>"
      ]
     },
     "metadata": {
      "needs_background": "light"
     },
     "output_type": "display_data"
    },
    {
     "data": {
      "image/png": "[encoded data removed]",
      "text/plain": [
       "<Figure size 360x360 with 1 Axes>"
      ]
     },
     "metadata": {
      "needs_background": "light"
     },
     "output_type": "display_data"
    },
    {
     "data": {
      "image/png": "[encoded data removed]",
      "text/plain": [
       "<Figure size 360x360 with 1 Axes>"
      ]
     },
     "metadata": {
      "needs_background": "light"
     },
     "output_type": "display_data"
    },
    {
     "data": {
      "image/png": "[encoded data removed]",
      "text/plain": [
       "<Figure size 360x360 with 1 Axes>"
      ]
     },
     "metadata": {
      "needs_background": "light"
     },
     "output_type": "display_data"
    }
   ],
   "source": [
    "real_estate_pd = real_estate_df.sample(withReplacement=False, fraction=0.7, seed=10).toPandas()\n",
    "\n",
    "for column in list_columns:\n",
    "    sns.lmplot(x='SalesClosePrice', y=column, data=real_estate_pd)"
   ]
  },
  {
   "cell_type": "markdown",
   "id": "6ebd8dc4",
   "metadata": {},
   "source": [
    "Analisando os gráficos, estou convencido que algumas dessas colunas são realmente importantes. Vou escolhê-las e filtrar `real_estate_df` de modo que mantenha apenas elas."
   ]
  },
  {
   "cell_type": "code",
   "execution_count": 48,
   "id": "1c0668f8",
   "metadata": {},
   "outputs": [
    {
     "name": "stdout",
     "output_type": "stream",
     "text": [
      "+---+---------------+---------+--------------+----------+----------+--------+\n",
      "| No|SalesClosePrice|LISTPRICE|FOUNDATIONSIZE|LivingArea|BATHSTOTAL|Bedrooms|\n",
      "+---+---------------+---------+--------------+----------+----------+--------+\n",
      "|  1|         143000|   139900|           980|       980|         2|       3|\n",
      "|  2|         190000|   210000|          1144|      2228|         3|       4|\n",
      "|  3|         225000|   225000|          1102|      1102|         1|       2|\n",
      "|  4|         265000|   230000|           959|      1632|         2|       2|\n",
      "|  5|         249900|   239900|          1026|      2052|         2|       3|\n",
      "|  6|         255000|   239900|          1152|      1397|         2|       3|\n",
      "|  7|         248000|   250000|           700|      1798|         3|       3|\n",
      "|  8|         245000|   254990|          1088|      1733|         3|       3|\n",
      "|  9|         254990|   254990|          1088|      1733|         3|       3|\n",
      "| 10|         250000|   255990|          1088|      1733|         3|       3|\n",
      "| 11|         254500|   259990|          1088|      1733|         3|       3|\n",
      "| 12|         253000|   259990|          1088|      1733|         3|       3|\n",
      "| 13|         257500|   259990|          1088|      1733|         3|       3|\n",
      "| 14|         272990|   269990|          1088|      1763|         3|       3|\n",
      "| 15|         290000|   270000|          1844|      1844|         3|       2|\n",
      "| 16|         274000|   274000|          1088|      1763|         3|       3|\n",
      "| 17|         274990|   274990|          1088|      1763|         3|       3|\n",
      "| 18|         274000|   284990|          1088|      1763|         3|       3|\n",
      "| 19|         282000|   287452|          1088|      1763|         3|       3|\n",
      "| 20|         280617|   288492|          1088|      1763|         3|       3|\n",
      "+---+---------------+---------+--------------+----------+----------+--------+\n",
      "only showing top 20 rows\n",
      "\n"
     ]
    }
   ],
   "source": [
    "final_list = ['SalesClosePrice', 'LISTPRICE', 'FOUNDATIONSIZE', 'LivingArea', 'BATHSTOTAL', 'Bedrooms']\n",
    "\n",
    "real_estate_df = real_estate_df.select('No', *final_list)\n",
    "real_estate_df.show()"
   ]
  },
  {
   "cell_type": "markdown",
   "id": "81223041",
   "metadata": {},
   "source": [
    "Há duplicatas? E valores nulos? Se sim, vamos removê-los. "
   ]
  },
  {
   "cell_type": "code",
   "execution_count": 50,
   "id": "eca06053",
   "metadata": {},
   "outputs": [
    {
     "name": "stdout",
     "output_type": "stream",
     "text": [
      "5000\n",
      "5000\n"
     ]
    }
   ],
   "source": [
    "print(real_estate_df.count())\n",
    "real_estate_df = real_estate_df.distinct() \\\n",
    "                                .filter(real_estate_df['LISTPRICE'].isNotNull()) \\\n",
    "                                .filter(real_estate_df['FOUNDATIONSIZE'].isNotNull()) \\\n",
    "                                .filter(real_estate_df['LivingArea'].isNotNull()) \\\n",
    "                                .filter(real_estate_df['BATHSTOTAL'].isNotNull()) \\\n",
    "                                .filter(real_estate_df['Bedrooms'].isNotNull())\n",
    "\n",
    "print(real_estate_df.count())"
   ]
  },
  {
   "cell_type": "markdown",
   "id": "79cb3ea6",
   "metadata": {},
   "source": [
    "Ótimo, não tinhamos nenhum problema com dados faltantes. O próximo passo é normalizarmos os dados. Eles estão com magnitudes diferentes, o que pode interferir no aprendizado do modelo. Podemos utilizar a normalização em z-score para aproximá-los a uma distribuição normal. Vamos fazer o exemplo com `LISTPRICE`."
   ]
  },
  {
   "cell_type": "code",
   "execution_count": 52,
   "id": "b4659055",
   "metadata": {},
   "outputs": [
    {
     "name": "stdout",
     "output_type": "stream",
     "text": [
      "+----+---------------+---------+--------------+----------+----------+--------+--------------------+\n",
      "|  No|SalesClosePrice|LISTPRICE|FOUNDATIONSIZE|LivingArea|BATHSTOTAL|Bedrooms|         LISTPRICE_z|\n",
      "+----+---------------+---------+--------------+----------+----------+--------+--------------------+\n",
      "| 130|         556873|   556873|          1757|      2984|         3|       3|   2.038663747405958|\n",
      "| 459|         249900|   239900|          1245|      1705|         3|       2|-0.16339234232865613|\n",
      "| 786|         168500|   189900|           572|      1584|         2|       2| -0.5107493868931166|\n",
      "| 872|         239000|   245000|          1159|      1799|         2|       4| -0.1279619237830812|\n",
      "|1709|         160000|   159900|           884|      1727|         2|       3| -0.7191636136317928|\n",
      "|1744|         163000|   163000|           832|      1522|         3|       3| -0.6976274768687962|\n",
      "|1764|         159000|   164900|           880|      1363|         2|       2| -0.6844279091753467|\n",
      "|1963|         190000|   174900|           660|      1200|         1|       3| -0.6149565002624546|\n",
      "|1989|         180000|   174900|           720|      1620|         2|       3| -0.6149565002624546|\n",
      "|2017|         174000|   175000|           763|      1248|         2|       2| -0.6142617861733257|\n",
      "|2463|         199900|   199900|           960|      1535|         1|       3|-0.44127797798022445|\n",
      "|2608|         203000|   211000|          1218|      1598|         2|       3|-0.36416471408691425|\n",
      "|2754|         236000|   224900|           700|      1240|         2|       3|-0.26759945569799426|\n",
      "|2795|         250000|   225000|           966|      1732|         2|       3|-0.26690474160886535|\n",
      "|3413|         317300|   325000|           936|      1816|         2|       3| 0.42780934752005545|\n",
      "|3649|         425000|   449000|           892|      1750|         2|       3|  1.2892548180399173|\n",
      "|3774|         570000|   599900|          1268|      1658|         2|       2|  2.3375783785354587|\n",
      "|4150|         213000|   214900|           800|      1909|         3|       3| -0.3370708646108863|\n",
      "|4182|         245000|   224900|          1120|      1120|         1|       2|-0.26759945569799426|\n",
      "|4564|         349900|   349900|          1080|      3037|         4|       4|  0.6007931557131567|\n",
      "+----+---------------+---------+--------------+----------+----------+--------+--------------------+\n",
      "only showing top 20 rows\n",
      "\n",
      "None\n"
     ]
    },
    {
     "data": {
      "text/plain": [
       "array([[<AxesSubplot:title={'center':'LISTPRICE'}>]], dtype=object)"
      ]
     },
     "execution_count": 52,
     "metadata": {},
     "output_type": "execute_result"
    },
    {
     "data": {
      "image/png": "[encoded data removed]",
      "text/plain": [
       "<Figure size 432x288 with 1 Axes>"
      ]
     },
     "metadata": {
      "needs_background": "light"
     },
     "output_type": "display_data"
    }
   ],
   "source": [
    "def z_norm(num, mean, stddev):\n",
    "    return (num - mean)/stddev\n",
    "\n",
    "z_nomr_udf = F.udf(z_norm, types.DoubleType())\n",
    "mean_listprice = real_estate_df.agg({'LISTPRICE': 'mean'}).collect()[0][0]\n",
    "stddev_listprice = real_estate_df.agg({'LISTPRICE': 'stddev'}).collect()[0][0]\n",
    "\n",
    "real_estate_df = real_estate_df.withColumn('LISTPRICE_z', z_nomr_udf(real_estate_df.LISTPRICE, F.lit(mean_listprice), F.lit(stddev_listprice)))\n",
    "print(real_estate_df.show()) \n",
    "\n",
    "listprice_pd = real_estate_df.select('LISTPRICE').toPandas()\n",
    "listprice_pd.hist(bins=15)"
   ]
  },
  {
   "cell_type": "markdown",
   "id": "91f414af",
   "metadata": {},
   "source": [
    "Uma vez que todas as colunas estão normalizadas, o dataset está pronto para ser consumido por algum algoritmo de aprendizado de máquina! Bom trabalho!"
   ]
  }
 ],
 "metadata": {
  "kernelspec": {
   "display_name": "Python 3 (ipykernel)",
   "language": "python",
   "name": "python3"
  },
  "language_info": {
   "codemirror_mode": {
    "name": "ipython",
    "version": 3
   },
   "file_extension": ".py",
   "mimetype": "text/x-python",
   "name": "python",
   "nbconvert_exporter": "python",
   "pygments_lexer": "ipython3",
   "version": "3.8.10"
  }
 },
 "nbformat": 4,
 "nbformat_minor": 5
}
