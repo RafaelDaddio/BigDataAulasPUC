{
 "cells": [
  {
   "cell_type": "markdown",
   "id": "6b1f1ed2",
   "metadata": {},
   "source": [
    "\n",
    "# Introdução ao Spark\n",
    "\n",
    "Nesse Notebook iremos aprender algumas funcionalidades básicas de Spark. Aprenderemos Spark em Python através da biblioteca PySpark. Para instalá-la, basta fazer o download  e seguir os passos em: http://spark.apache.org/downloads.html, ou instalar usando Pypi:\n",
    "\n",
    "\tpip install pyspark\n",
    "\n",
    "Para utilizá-la em conjunto com um Jupyter Notebook, você precisa baixar a biblioteca Jupyter.\n",
    "\n",
    "\tpip install jupyter\n",
    "    \n",
    "Depois, baixar também a biblioteca findspark\n",
    "\n",
    "\tpip install findspark\n",
    "\n",
    "E pronto! Agora, no começo de cada notebook você deverá importar tanto `findspark` quanto `pyspark`:"
   ]
  },
  {
   "cell_type": "code",
   "execution_count": null,
   "id": "316ec4d2",
   "metadata": {},
   "outputs": [],
   "source": [
    "import findspark\n",
    "findspark.init()\n",
    "\n",
    "import pyspark\n",
    "import random"
   ]
  },
  {
   "cell_type": "markdown",
   "id": "26d97dfa",
   "metadata": {},
   "source": [
    "# O objeto `SparkContext`\n",
    "\n",
    "A primeira coisa a ser feita para rodar as funcionalidades do Spark é inicializar um contexto Spark. Isso é feito através de um objeto `SparkContext`. Ele é a principal entrada para as funcionalidades do Spark. É ele quem realiza e representa a conexão para um cluster, e é utilizado para criar RDDs e distribuir variáveis pelo cluster. \n",
    "\n",
    "![Retirado de: https://www.devmedia.com.br/introducao-ao-apache-spark/34178](https://arquivo.devmedia.com.br/artigos/Eduardo_Zambom/spark/image002.jpg)\n",
    "\n",
    "Quando utilizamos o Shell Spark, a própria API cria um objeto `SparkContext`, mas esse não é o nosso caso. Vamos criar um objeto `SparkContext`:"
   ]
  },
  {
   "cell_type": "code",
   "execution_count": null,
   "id": "ec2f1df6",
   "metadata": {},
   "outputs": [],
   "source": []
  },
  {
   "cell_type": "markdown",
   "id": "38c727bb",
   "metadata": {},
   "source": [
    "Vamos ver o que contém no objeto `sc`. Observe que ele possui duas variáveis:\n",
    "    - **master:** onde está o cluster. Como estamos rodando localmente, o objeto seta essa variável como `local[*]`\n",
    "    - **appName:** o nome da aplicação. \n",
    "    \n",
    "Ambas variáveis são obrigatórias na criação de um contexto. Você poderia escolher apontar o master para um cluster Hadoop, fornecendo sua URL."
   ]
  },
  {
   "cell_type": "code",
   "execution_count": null,
   "id": "78f37c9f",
   "metadata": {},
   "outputs": [],
   "source": []
  },
  {
   "cell_type": "markdown",
   "id": "4af53900",
   "metadata": {},
   "source": [
    "# Criando RDDS\n",
    "\n",
    "Com o contexto inicializado, iremos começar nosso aprendizado com as APIs de baixo nível, os RDDs. RDDs são a unidade mais primitiva do Spark e recebem esta sigla de:\n",
    "- _Resilient_ \n",
    "- _Distributed_\n",
    "- _Datasets_\n",
    "\n",
    "\n",
    "![Retirado de: https://www.javatpoint.com/pyspark-rdd](https://static.javatpoint.com/tutorial/pyspark/images/pyspark-rdd2.png)\n",
    "\n",
    "Os RDDs são a unidade base em que todas as demais APIs de Spark são construídas. As APIs de mais alto nível, como Dataframes, SparkSQL, SparkStreaming, MLlib, etc. utilizam estas unidades como base para o processamento distribuído.\n",
    "\n",
    "![Retirado de: https://www.oreilly.com/library/view/spark-the-definitive/9781491912201/](https://www.oreilly.com/library/view/spark-the-definitive/9781491912201/assets/spdg_0101.png)\n",
    "\n",
    "Para criar RDDs, podemos fazer de dois modos:\n",
    "- Utilizando variáveis e coleções Python com `parallelize()`\n",
    "- Lendo e extraindo valores de arquivos textuais com `textFile()`"
   ]
  },
  {
   "cell_type": "code",
   "execution_count": null,
   "id": "d6de8409",
   "metadata": {},
   "outputs": [],
   "source": [
    "# criando um RDD a partir de uma lista\n"
   ]
  },
  {
   "cell_type": "code",
   "execution_count": null,
   "id": "52dac2da",
   "metadata": {},
   "outputs": [],
   "source": [
    "# criando um RDD a partir de um arquivo\n"
   ]
  },
  {
   "cell_type": "markdown",
   "id": "05ddfd91",
   "metadata": {},
   "source": [
    "# Rodando tarefas distribuídas\n",
    "\n",
    "A primeira coisa que você precisa saber sobre um RDD é que ele é **imutável**. Ou seja, para editar um valor de um RDD, você precisa criar um novo com o valor editado.\n",
    "\n",
    "Operações em RDDs são divididas em duas categorias:\n",
    "- _Transformações:_ constroem novos RDDs a partir de mudanças nos dados.\n",
    "- _Ações:_ realizam cálculos e retornam seus resultados para o programa _driver_.\n",
    "\n",
    "O Spark realiza uma avaliação **preguiçosa** (_lazy evaluation_) nas operações que precisa executar. Isso significa que ele irá _analisar_ as **transformações**, mas não irá executá-las de imediato. Ele apenas executa tudo quando uma **ação** é _executada_. A razão de ele fazer isso é que ele constrói um _grafo acíclico direcionado_ a partir das transformações, e prepara a maneira como esses dados serão processados no cluster de antemão. Quando uma ação é invocada, ele envia cópias da execução de todas as operações para os clusters, executa as transformações lá, e retorna com o resultado da ação invocada. \n",
    "\n",
    "Vamos fazer um simples exemplo de uma aplicação completa de uma tarefa em Spark:"
   ]
  },
  {
   "cell_type": "code",
   "execution_count": null,
   "id": "e6d69b67",
   "metadata": {},
   "outputs": [],
   "source": [
    "# aplicação para contar elementos maiores que 5 em uma lista\n"
   ]
  },
  {
   "cell_type": "markdown",
   "id": "e0c273b9",
   "metadata": {},
   "source": [
    "# Transformações\n",
    "\n",
    "No exemplo acima vimos um exemplo de transformação (`filter`) e dois de ações (`take` e `count`). \n",
    "\n",
    "As transformações podem requerir _funções_ (sejam funções lambda ou explicitamente implementadas) para realizarem suas operações. As principais são:\n",
    "- `filter()`: filtra os elementos de um RDD de acordo com alguma condição expressa em uma função\n",
    "- `map()`: transforma todos os elementos de um RDD de acordo com alguma função (relacionamento 1 para 1)\n",
    "- `flatmap()`: \"explode\" os elementos de um RDD em múltiplos elementos de acordo com alguma função (relacionamento 1 para muitos)\n",
    "- `sample()`: retira uma amostra dos dados, com ou sem repetição, de acordo com uma semente randomica\n",
    "- `union()`: une dois RDDs\n",
    "\n",
    "Existem muitas outras transformações, listadas [na documentação oficial do Spark](https://spark.apache.org/docs/latest/rdd-programming-guide.html#transformations). Existe um segundo grupo de transformações, que trabalha com **pares** de chave-valor (lembram do Hadoop?), que veremos mais a frente.\n",
    "\n",
    "Vamos fazer um exemplo de cada uma listada acima (já vimos `filter()` logo acima):"
   ]
  },
  {
   "cell_type": "code",
   "execution_count": null,
   "id": "68be6056",
   "metadata": {},
   "outputs": [],
   "source": [
    "# exemplo: map()\n",
    "# contar caracteres em elementos lista de strings\n"
   ]
  },
  {
   "cell_type": "code",
   "execution_count": null,
   "id": "16a4bc50",
   "metadata": {},
   "outputs": [],
   "source": [
    "# exemplo: flatMap()\n",
    "# contar quantas palavras tem em um texto\n"
   ]
  },
  {
   "cell_type": "code",
   "execution_count": null,
   "id": "dc63c752",
   "metadata": {},
   "outputs": [],
   "source": [
    "# exemplo sample()\n",
    "# amostragem aleatória sem repetição\n",
    "\n"
   ]
  },
  {
   "cell_type": "code",
   "execution_count": null,
   "id": "b8a62851",
   "metadata": {},
   "outputs": [],
   "source": [
    "# exemplo union()\n",
    "# somar todos elementos de dois RDDs\n"
   ]
  },
  {
   "cell_type": "markdown",
   "id": "0e4a8dae",
   "metadata": {},
   "source": [
    "# Ações\n",
    "\n",
    "Enquanto vimos alguns exemplos de Transformações, aproveitamos para explorar algumas ações, como `collect()`, `count()` e `reduce`. Existem muitas outras opções além dessas. Vamos rever algumas que já utilizamos e visitar algumas novas:\n",
    "- `collect()`: Retorna todos os elementos de um RDD como uma lista para o programa driver.\n",
    "- `count()`: Conta o número de elementos que estão em um RDD, e retorna esse valor para o programa driver.\n",
    "- `reduce()`: reduz o RDD a um único valor com base em uma _função_. Essa função deve ser formatada de modo que recebe dois argumentos e retorna apenas um valor.\n",
    "- `take()`: recebe como parâmetro um valor _n_ e retorna uma quantidade de elementos igual a esse valor em formato de lista para o programa driver. Existe uma variação de retorno ordenado chamada `takeOrdered()`.\n",
    "- `takeSample()`: essa ação realiza operação similar à transformação `sample()`, retornando uma lista de elementos ao programa driver.\n",
    "- `saveAsTextFile()`: salva um RDD como arquivo de texto em um caminho especificado.\n",
    "\n",
    "Existem muitas outras ações, listadas [na documentação oficial do Spark](https://spark.apache.org/docs/latest/rdd-programming-guide.html#actions). Existe também uma ação baseada em pares chave-valor, que veremos depois de testarmos mais alguns exemplos."
   ]
  },
  {
   "cell_type": "code",
   "execution_count": null,
   "id": "c07d9c44",
   "metadata": {},
   "outputs": [],
   "source": [
    "# exemplo take(), takeOrdered() e takeSample()\n"
   ]
  },
  {
   "cell_type": "code",
   "execution_count": null,
   "id": "fc32eadf",
   "metadata": {},
   "outputs": [],
   "source": [
    "# mais um exemplo reduce\n",
    "# encontrar o maior e o menor\n"
   ]
  },
  {
   "cell_type": "code",
   "execution_count": null,
   "id": "06d486c3",
   "metadata": {},
   "outputs": [],
   "source": [
    "# exemplo saveAsTextFile()\n",
    "# salvar arquivo com 10 linhas repetidas"
   ]
  },
  {
   "cell_type": "markdown",
   "id": "374bbf14",
   "metadata": {},
   "source": [
    "# RDDs como pares chave-valor\n",
    "\n",
    "Nós conseguimos simular as operações de MapReduce no Spark utilizando transformações e ações que operam em pares chave-valor. Na realidade, nós temos até um pouco mais de liberdade do que o MapReduce tradicional aqui. Para operar com chaves, o Spark oferece as seguintes transformações:\n",
    "\n",
    "- `groupByKey()`: retorna um RDD no formato (K, Iterable\\<V\\>).\n",
    "- `reduceByKey()`: \tretorna um RDD de formato (K, V), onde os valores de cada chave foram reduzidos por alguma _função_, que deve receber dois valores como parâmetros e retornar um único valor. \n",
    "- `aggregateByKey()`: generalização do `reduceByKey()`. Aqui podemos informar um valor de início da agregação, e definir duas funções: uma que combina os resultados em uma partição, e outra que reduz o resultado da segunda no programa driver.\n",
    "- `sortByKey()`: retorna um RDD ordenado pelas chaves em ordem ascendente ou descendente.\n",
    "\n",
    "O Spark oferece uma única ação baseada em chaves:\n",
    "\n",
    "- `countByKey()`: retorna um dicionário com a contagem de ocorrências das chaves em um RDD.\n",
    "\n",
    "Vamos ver alguns exemplos com o mesmo conjunto de dados."
   ]
  },
  {
   "cell_type": "code",
   "execution_count": null,
   "id": "2578001f",
   "metadata": {},
   "outputs": [],
   "source": [
    "# exemplo groupByKey()\n"
   ]
  },
  {
   "cell_type": "code",
   "execution_count": null,
   "id": "7c16bba2",
   "metadata": {},
   "outputs": [],
   "source": [
    "#exemplo reduceByKey()\n"
   ]
  },
  {
   "cell_type": "code",
   "execution_count": null,
   "id": "c0cbab6a",
   "metadata": {},
   "outputs": [],
   "source": [
    "# exemplo aggregateByKey()\n"
   ]
  },
  {
   "cell_type": "code",
   "execution_count": null,
   "id": "8d7bea71",
   "metadata": {},
   "outputs": [],
   "source": [
    "# exemplo sortByKey()\n"
   ]
  },
  {
   "cell_type": "code",
   "execution_count": null,
   "id": "15f74dd4",
   "metadata": {},
   "outputs": [],
   "source": [
    "#exemplo countByKey()\n"
   ]
  },
  {
   "cell_type": "markdown",
   "id": "4a9b9b40",
   "metadata": {},
   "source": [
    "# Aplicações completas com RDDs\n",
    "\n",
    "Agora que sabemos as principais funcionalidades com RDDs, vamos fazer alguns exemplos de aplicações com RDDs. Vamos fazer os mesmos exemplos que vimos em MapReduce. \n",
    "\n",
    "- Contagem de palavras com NLTK\n",
    "- Amigos em comum\n",
    "- Minutos de atraso por aeroporto"
   ]
  },
  {
   "cell_type": "code",
   "execution_count": null,
   "id": "92ef6b92",
   "metadata": {},
   "outputs": [],
   "source": [
    "# contagem de palavras\n"
   ]
  },
  {
   "cell_type": "code",
   "execution_count": null,
   "id": "7ee1e3c7",
   "metadata": {},
   "outputs": [],
   "source": [
    "# amigos em comum\n"
   ]
  },
  {
   "cell_type": "code",
   "execution_count": null,
   "id": "0a4a436c",
   "metadata": {},
   "outputs": [],
   "source": [
    "# minutos de atraso por aeroporto\n",
    "\n"
   ]
  },
  {
   "cell_type": "markdown",
   "id": "64423b06",
   "metadata": {},
   "source": [
    "# TF-IDF\n",
    "\n",
    "Vamos finalizar fazendo um exemplo de uma aplicação um pouco mais complexa. O TF-IDF basicamente indexa palavras e documentos utilizando chaves da forma `(token, doc)` e valores representando uma medida que relaciona frequência do termo em um documento com a raridade dele na coleção.\n",
    "\n",
    "Em Hadoop vimos que era necessário três execuções de MapReduce, uma em seguida da outra, para realizar a indexação. Aqui segue _quase_ o mesmo princípio.\n",
    "\n",
    "- 1. Realizamos o mapeamento de palavras com documentos\n",
    "- 2. Calculamos o TF de cada elemento\n",
    "- 3. Em um _segundo_ RDD, calculamos o DF, e depois mapeamos para o IDF\n",
    "- 4. Finalmente, unimos os dois RDDs, e reduzimos com uma função de multiplicação"
   ]
  },
  {
   "cell_type": "code",
   "execution_count": null,
   "id": "e83915e6",
   "metadata": {},
   "outputs": [],
   "source": [
    "\n"
   ]
  },
  {
   "cell_type": "code",
   "execution_count": null,
   "id": "9e6c2358",
   "metadata": {},
   "outputs": [],
   "source": []
  }
 ],
 "metadata": {
  "kernelspec": {
   "display_name": "Python 3 (ipykernel)",
   "language": "python",
   "name": "python3"
  },
  "language_info": {
   "codemirror_mode": {
    "name": "ipython",
    "version": 3
   },
   "file_extension": ".py",
   "mimetype": "text/x-python",
   "name": "python",
   "nbconvert_exporter": "python",
   "pygments_lexer": "ipython3",
   "version": "3.8.10"
  }
 },
 "nbformat": 4,
 "nbformat_minor": 5
}
